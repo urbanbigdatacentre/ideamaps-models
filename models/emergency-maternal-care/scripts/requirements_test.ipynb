{
 "cells": [
  {
   "cell_type": "code",
   "execution_count": 8,
   "metadata": {},
   "outputs": [
    {
     "name": "stdout",
     "output_type": "stream",
     "text": [
      "Collecting geopandas\n",
      "  Downloading geopandas-1.0.1-py3-none-any.whl (323 kB)\n",
      "\u001b[K     |████████████████████████████████| 323 kB 3.2 MB/s eta 0:00:01\n",
      "\u001b[?25hCollecting pyproj>=3.3.0\n",
      "  Downloading pyproj-3.6.1-cp39-cp39-macosx_11_0_arm64.whl (4.9 MB)\n",
      "\u001b[K     |████████████████████████████████| 4.9 MB 65.5 MB/s eta 0:00:01\n",
      "\u001b[?25hCollecting pandas>=1.4.0\n",
      "  Downloading pandas-2.3.0-cp39-cp39-macosx_11_0_arm64.whl (10.8 MB)\n",
      "\u001b[K     |████████████████████████████████| 10.8 MB 77.2 MB/s eta 0:00:01\n",
      "\u001b[?25hCollecting pyogrio>=0.7.2\n",
      "  Downloading pyogrio-0.11.0-cp39-cp39-macosx_12_0_arm64.whl (19.5 MB)\n",
      "\u001b[K     |████████████████████████████████| 19.5 MB 38.0 MB/s eta 0:00:01\n",
      "\u001b[?25hCollecting shapely>=2.0.0\n",
      "  Downloading shapely-2.0.7-cp39-cp39-macosx_11_0_arm64.whl (1.3 MB)\n",
      "\u001b[K     |████████████████████████████████| 1.3 MB 79.9 MB/s eta 0:00:01\n",
      "\u001b[?25hRequirement already satisfied: packaging in ./.venv_requirements_test/lib/python3.9/site-packages (from geopandas) (25.0)\n",
      "Collecting numpy>=1.22\n",
      "  Downloading numpy-2.0.2-cp39-cp39-macosx_14_0_arm64.whl (5.3 MB)\n",
      "\u001b[K     |████████████████████████████████| 5.3 MB 73.9 MB/s eta 0:00:01\n",
      "\u001b[?25hCollecting pytz>=2020.1\n",
      "  Downloading pytz-2025.2-py2.py3-none-any.whl (509 kB)\n",
      "\u001b[K     |████████████████████████████████| 509 kB 95.2 MB/s eta 0:00:01\n",
      "\u001b[?25hRequirement already satisfied: python-dateutil>=2.8.2 in ./.venv_requirements_test/lib/python3.9/site-packages (from pandas>=1.4.0->geopandas) (2.9.0.post0)\n",
      "Collecting tzdata>=2022.7\n",
      "  Downloading tzdata-2025.2-py2.py3-none-any.whl (347 kB)\n",
      "\u001b[K     |████████████████████████████████| 347 kB 83.7 MB/s eta 0:00:01\n",
      "\u001b[?25hCollecting certifi\n",
      "  Downloading certifi-2025.4.26-py3-none-any.whl (159 kB)\n",
      "\u001b[K     |████████████████████████████████| 159 kB 90.4 MB/s eta 0:00:01\n",
      "\u001b[?25hRequirement already satisfied: six>=1.5 in ./.venv_requirements_test/lib/python3.9/site-packages (from python-dateutil>=2.8.2->pandas>=1.4.0->geopandas) (1.17.0)\n",
      "Installing collected packages: tzdata, pytz, numpy, certifi, shapely, pyproj, pyogrio, pandas, geopandas\n",
      "Successfully installed certifi-2025.4.26 geopandas-1.0.1 numpy-2.0.2 pandas-2.3.0 pyogrio-0.11.0 pyproj-3.6.1 pytz-2025.2 shapely-2.0.7 tzdata-2025.2\n",
      "\u001b[33mWARNING: You are using pip version 21.2.4; however, version 25.1.1 is available.\n",
      "You should consider upgrading via the '/Users/moriseiitsu/Dropbox/IDEAMAPS/ideamaps-models/models/emergency-maternal-care/scripts/.venv_requirements_test/bin/python -m pip install --upgrade pip' command.\u001b[0m\n",
      "Note: you may need to restart the kernel to use updated packages.\n"
     ]
    }
   ],
   "source": [
    "%pip install geopandas\n"
   ]
  },
  {
   "cell_type": "code",
   "execution_count": 4,
   "metadata": {},
   "outputs": [],
   "source": [
    "# Set paths to access data\n",
    "# Define directories\n",
    "data_inputs = './Nairobi/data-inputs/'\n",
    "data_temp = './Nairobi/data-temp/'\n",
    "data_outputs = '../nairobi/'"
   ]
  },
  {
   "cell_type": "code",
   "execution_count": 9,
   "metadata": {},
   "outputs": [],
   "source": [
    "import geopandas as gpd\n",
    "import os\n",
    "healthcare_facilities_validated = gpd.read_file(data_inputs + 'helthcare-facilities.geojson')"
   ]
  },
  {
   "cell_type": "code",
   "execution_count": 10,
   "metadata": {},
   "outputs": [
    {
     "data": {
      "text/html": [
       "<div>\n",
       "<style scoped>\n",
       "    .dataframe tbody tr th:only-of-type {\n",
       "        vertical-align: middle;\n",
       "    }\n",
       "\n",
       "    .dataframe tbody tr th {\n",
       "        vertical-align: top;\n",
       "    }\n",
       "\n",
       "    .dataframe thead th {\n",
       "        text-align: right;\n",
       "    }\n",
       "</style>\n",
       "<table border=\"1\" class=\"dataframe\">\n",
       "  <thead>\n",
       "    <tr style=\"text-align: right;\">\n",
       "      <th></th>\n",
       "      <th>fid</th>\n",
       "      <th>field_1_1</th>\n",
       "      <th>Admin1</th>\n",
       "      <th>Facility_n</th>\n",
       "      <th>Facility_t</th>\n",
       "      <th>Ownership</th>\n",
       "      <th>Lat</th>\n",
       "      <th>Long</th>\n",
       "      <th>LL_source</th>\n",
       "      <th>Ward</th>\n",
       "      <th>Sub County</th>\n",
       "      <th>Level</th>\n",
       "      <th>Offer EmOC (Y/N)</th>\n",
       "      <th>Type of EmOC (basic/comprehensive)</th>\n",
       "      <th>Total In-patient beds</th>\n",
       "      <th>Maternity beds</th>\n",
       "      <th>Maternity theatres</th>\n",
       "      <th>Operating time</th>\n",
       "      <th>Comments</th>\n",
       "      <th>geometry</th>\n",
       "    </tr>\n",
       "  </thead>\n",
       "  <tbody>\n",
       "    <tr>\n",
       "      <th>0</th>\n",
       "      <td>1</td>\n",
       "      <td>Kenya</td>\n",
       "      <td>Nairobi</td>\n",
       "      <td>Dandora II Health Centre</td>\n",
       "      <td>Health Centre</td>\n",
       "      <td>Local authority</td>\n",
       "      <td>-1.257610</td>\n",
       "      <td>36.887750</td>\n",
       "      <td>GPS</td>\n",
       "      <td>Dandora Area III</td>\n",
       "      <td>Embakasi North</td>\n",
       "      <td>Level 3</td>\n",
       "      <td>True</td>\n",
       "      <td>BMOC</td>\n",
       "      <td>15</td>\n",
       "      <td>N/A</td>\n",
       "      <td>N/A</td>\n",
       "      <td>24hrs</td>\n",
       "      <td>None</td>\n",
       "      <td>POINT (36.88775 -1.25761)</td>\n",
       "    </tr>\n",
       "    <tr>\n",
       "      <th>1</th>\n",
       "      <td>2</td>\n",
       "      <td>Kenya</td>\n",
       "      <td>Nairobi</td>\n",
       "      <td>Embakasi Health Centre</td>\n",
       "      <td>Health Centre</td>\n",
       "      <td>Local authority</td>\n",
       "      <td>-1.306200</td>\n",
       "      <td>36.914700</td>\n",
       "      <td>GPS</td>\n",
       "      <td>Embakasi</td>\n",
       "      <td>Embakasi East</td>\n",
       "      <td>Level 3</td>\n",
       "      <td>True</td>\n",
       "      <td>CeMOC &amp; BMOC</td>\n",
       "      <td>N/A</td>\n",
       "      <td>N/A</td>\n",
       "      <td>N/A</td>\n",
       "      <td>24hrs</td>\n",
       "      <td>None</td>\n",
       "      <td>POINT (36.9147 -1.3062)</td>\n",
       "    </tr>\n",
       "    <tr>\n",
       "      <th>2</th>\n",
       "      <td>3</td>\n",
       "      <td>Kenya</td>\n",
       "      <td>Nairobi</td>\n",
       "      <td>Imara Health Centre</td>\n",
       "      <td>Health Centre</td>\n",
       "      <td>FBO</td>\n",
       "      <td>-1.324300</td>\n",
       "      <td>36.888700</td>\n",
       "      <td>Google Earth</td>\n",
       "      <td>Kware</td>\n",
       "      <td>Embakasi South</td>\n",
       "      <td>Level 3</td>\n",
       "      <td>True</td>\n",
       "      <td>BMOC</td>\n",
       "      <td>6</td>\n",
       "      <td>N/A</td>\n",
       "      <td>N/A</td>\n",
       "      <td>24hrs &amp; weekends</td>\n",
       "      <td>None</td>\n",
       "      <td>POINT (36.8887 -1.3243)</td>\n",
       "    </tr>\n",
       "    <tr>\n",
       "      <th>3</th>\n",
       "      <td>4</td>\n",
       "      <td>Kenya</td>\n",
       "      <td>Nairobi</td>\n",
       "      <td>Jonalifa Clinic</td>\n",
       "      <td>Clinic</td>\n",
       "      <td>NGO</td>\n",
       "      <td>-1.285900</td>\n",
       "      <td>36.739880</td>\n",
       "      <td>Google Earth</td>\n",
       "      <td>Kawangware</td>\n",
       "      <td>Dagoretti South</td>\n",
       "      <td>Level 2</td>\n",
       "      <td>True</td>\n",
       "      <td>BMOC</td>\n",
       "      <td>8</td>\n",
       "      <td>N/A</td>\n",
       "      <td>N/A</td>\n",
       "      <td>24hrs &amp; weekends</td>\n",
       "      <td>None</td>\n",
       "      <td>POINT (36.73988 -1.2859)</td>\n",
       "    </tr>\n",
       "    <tr>\n",
       "      <th>4</th>\n",
       "      <td>5</td>\n",
       "      <td>Kenya</td>\n",
       "      <td>Nairobi</td>\n",
       "      <td>Kangemi Health Centre</td>\n",
       "      <td>Health Centre</td>\n",
       "      <td>Local authority</td>\n",
       "      <td>-1.264600</td>\n",
       "      <td>36.749300</td>\n",
       "      <td>GPS</td>\n",
       "      <td>Kitisuru</td>\n",
       "      <td>Westlands</td>\n",
       "      <td>Level 3</td>\n",
       "      <td>True</td>\n",
       "      <td>BMOC</td>\n",
       "      <td>N/A</td>\n",
       "      <td>N/A</td>\n",
       "      <td>N/A</td>\n",
       "      <td>24hrs</td>\n",
       "      <td>None</td>\n",
       "      <td>POINT (36.7493 -1.2646)</td>\n",
       "    </tr>\n",
       "    <tr>\n",
       "      <th>...</th>\n",
       "      <td>...</td>\n",
       "      <td>...</td>\n",
       "      <td>...</td>\n",
       "      <td>...</td>\n",
       "      <td>...</td>\n",
       "      <td>...</td>\n",
       "      <td>...</td>\n",
       "      <td>...</td>\n",
       "      <td>...</td>\n",
       "      <td>...</td>\n",
       "      <td>...</td>\n",
       "      <td>...</td>\n",
       "      <td>...</td>\n",
       "      <td>...</td>\n",
       "      <td>...</td>\n",
       "      <td>...</td>\n",
       "      <td>...</td>\n",
       "      <td>...</td>\n",
       "      <td>...</td>\n",
       "      <td>...</td>\n",
       "    </tr>\n",
       "    <tr>\n",
       "      <th>148</th>\n",
       "      <td>150</td>\n",
       "      <td>Kenya</td>\n",
       "      <td>Nairobi</td>\n",
       "      <td>Nairobi Hospital</td>\n",
       "      <td>Comprehensive Teaching &amp; Tertiary Referral Hos...</td>\n",
       "      <td>Private</td>\n",
       "      <td>-1.294743</td>\n",
       "      <td>36.800247</td>\n",
       "      <td>KMHFR</td>\n",
       "      <td>Kilimani</td>\n",
       "      <td>Dagoretti North</td>\n",
       "      <td>Level 5</td>\n",
       "      <td>True</td>\n",
       "      <td>CeMOC&amp;BMOC</td>\n",
       "      <td>350</td>\n",
       "      <td>N/A</td>\n",
       "      <td>N/A</td>\n",
       "      <td>24hrs+weekends</td>\n",
       "      <td>None</td>\n",
       "      <td>POINT (36.80025 -1.29474)</td>\n",
       "    </tr>\n",
       "    <tr>\n",
       "      <th>149</th>\n",
       "      <td>151</td>\n",
       "      <td>Kenya</td>\n",
       "      <td>Nairobi</td>\n",
       "      <td>Al-Basrah Hospital Limited</td>\n",
       "      <td>Primary care hospitals</td>\n",
       "      <td>Private</td>\n",
       "      <td>-1.255881</td>\n",
       "      <td>36.876857</td>\n",
       "      <td>KMHFR</td>\n",
       "      <td>Kiamaiko</td>\n",
       "      <td>Mathare</td>\n",
       "      <td>Level 4</td>\n",
       "      <td>True</td>\n",
       "      <td>BMOC</td>\n",
       "      <td>N/A</td>\n",
       "      <td>10</td>\n",
       "      <td>1</td>\n",
       "      <td>24hrs+weekends</td>\n",
       "      <td>None</td>\n",
       "      <td>POINT (36.87686 -1.25588)</td>\n",
       "    </tr>\n",
       "    <tr>\n",
       "      <th>150</th>\n",
       "      <td>152</td>\n",
       "      <td>Kenya</td>\n",
       "      <td>Nairobi</td>\n",
       "      <td>St. Oswald Medical Centre</td>\n",
       "      <td>Medical Center</td>\n",
       "      <td>Private</td>\n",
       "      <td>-1.290367</td>\n",
       "      <td>36.729885</td>\n",
       "      <td>KMHFR</td>\n",
       "      <td>Riruta</td>\n",
       "      <td>Dagoretti South</td>\n",
       "      <td>Level 3</td>\n",
       "      <td>True</td>\n",
       "      <td>BMOC</td>\n",
       "      <td>12</td>\n",
       "      <td>2</td>\n",
       "      <td>N/A</td>\n",
       "      <td>24hrs+weekends</td>\n",
       "      <td>None</td>\n",
       "      <td>POINT (36.72989 -1.29037)</td>\n",
       "    </tr>\n",
       "    <tr>\n",
       "      <th>151</th>\n",
       "      <td>153</td>\n",
       "      <td>Kenya</td>\n",
       "      <td>Nairobi</td>\n",
       "      <td>Nairobi West Hospital</td>\n",
       "      <td>Primary Care hospitals</td>\n",
       "      <td>Private</td>\n",
       "      <td>-1.306840</td>\n",
       "      <td>36.825760</td>\n",
       "      <td>KMHFR</td>\n",
       "      <td>Nairobi West</td>\n",
       "      <td>Langata</td>\n",
       "      <td>Level 4</td>\n",
       "      <td>True</td>\n",
       "      <td>BMOC</td>\n",
       "      <td>152</td>\n",
       "      <td>N/A</td>\n",
       "      <td>N/A</td>\n",
       "      <td>24hrs+weekends</td>\n",
       "      <td>None</td>\n",
       "      <td>POINT (36.82576 -1.30684)</td>\n",
       "    </tr>\n",
       "    <tr>\n",
       "      <th>152</th>\n",
       "      <td>154</td>\n",
       "      <td>Kenya</td>\n",
       "      <td>Nairobi</td>\n",
       "      <td>The Karen Hospital</td>\n",
       "      <td>Primary Care hospitals</td>\n",
       "      <td>Private</td>\n",
       "      <td>-1.336870</td>\n",
       "      <td>36.725890</td>\n",
       "      <td>KMHFR</td>\n",
       "      <td>Karen</td>\n",
       "      <td>Langata</td>\n",
       "      <td>Level 4</td>\n",
       "      <td>True</td>\n",
       "      <td>CeMOC &amp;BMOC</td>\n",
       "      <td>102</td>\n",
       "      <td>N/A</td>\n",
       "      <td>None</td>\n",
       "      <td>24hrs+weekends</td>\n",
       "      <td>None</td>\n",
       "      <td>POINT (36.72589 -1.33687)</td>\n",
       "    </tr>\n",
       "  </tbody>\n",
       "</table>\n",
       "<p>153 rows × 20 columns</p>\n",
       "</div>"
      ],
      "text/plain": [
       "     fid field_1_1   Admin1                  Facility_n  \\\n",
       "0      1     Kenya  Nairobi    Dandora II Health Centre   \n",
       "1      2     Kenya  Nairobi      Embakasi Health Centre   \n",
       "2      3     Kenya  Nairobi         Imara Health Centre   \n",
       "3      4     Kenya  Nairobi             Jonalifa Clinic   \n",
       "4      5     Kenya  Nairobi       Kangemi Health Centre   \n",
       "..   ...       ...      ...                         ...   \n",
       "148  150     Kenya  Nairobi            Nairobi Hospital   \n",
       "149  151     Kenya  Nairobi  Al-Basrah Hospital Limited   \n",
       "150  152     Kenya  Nairobi   St. Oswald Medical Centre   \n",
       "151  153     Kenya  Nairobi       Nairobi West Hospital   \n",
       "152  154     Kenya  Nairobi          The Karen Hospital   \n",
       "\n",
       "                                            Facility_t        Ownership  \\\n",
       "0                                        Health Centre  Local authority   \n",
       "1                                        Health Centre  Local authority   \n",
       "2                                        Health Centre              FBO   \n",
       "3                                               Clinic              NGO   \n",
       "4                                        Health Centre  Local authority   \n",
       "..                                                 ...              ...   \n",
       "148  Comprehensive Teaching & Tertiary Referral Hos...          Private   \n",
       "149                             Primary care hospitals          Private   \n",
       "150                                     Medical Center          Private   \n",
       "151                             Primary Care hospitals          Private   \n",
       "152                             Primary Care hospitals          Private   \n",
       "\n",
       "          Lat       Long     LL_source              Ward       Sub County  \\\n",
       "0   -1.257610  36.887750           GPS  Dandora Area III   Embakasi North   \n",
       "1   -1.306200  36.914700           GPS          Embakasi    Embakasi East   \n",
       "2   -1.324300  36.888700  Google Earth             Kware   Embakasi South   \n",
       "3   -1.285900  36.739880  Google Earth        Kawangware  Dagoretti South   \n",
       "4   -1.264600  36.749300           GPS          Kitisuru        Westlands   \n",
       "..        ...        ...           ...               ...              ...   \n",
       "148 -1.294743  36.800247         KMHFR          Kilimani  Dagoretti North   \n",
       "149 -1.255881  36.876857         KMHFR          Kiamaiko          Mathare   \n",
       "150 -1.290367  36.729885         KMHFR            Riruta  Dagoretti South   \n",
       "151 -1.306840  36.825760         KMHFR      Nairobi West          Langata   \n",
       "152 -1.336870  36.725890         KMHFR             Karen          Langata   \n",
       "\n",
       "       Level  Offer EmOC (Y/N) Type of EmOC (basic/comprehensive)  \\\n",
       "0    Level 3              True                               BMOC   \n",
       "1    Level 3              True                       CeMOC & BMOC   \n",
       "2    Level 3              True                               BMOC   \n",
       "3    Level 2              True                               BMOC   \n",
       "4    Level 3              True                               BMOC   \n",
       "..       ...               ...                                ...   \n",
       "148  Level 5              True                         CeMOC&BMOC   \n",
       "149  Level 4              True                               BMOC   \n",
       "150  Level 3              True                               BMOC   \n",
       "151  Level 4              True                               BMOC   \n",
       "152  Level 4              True                        CeMOC &BMOC   \n",
       "\n",
       "    Total In-patient beds Maternity beds Maternity theatres    Operating time  \\\n",
       "0                      15            N/A                N/A             24hrs   \n",
       "1                     N/A            N/A                N/A             24hrs   \n",
       "2                       6            N/A                N/A  24hrs & weekends   \n",
       "3                       8            N/A                N/A  24hrs & weekends   \n",
       "4                     N/A            N/A                N/A             24hrs   \n",
       "..                    ...            ...                ...               ...   \n",
       "148                   350            N/A                N/A    24hrs+weekends   \n",
       "149                   N/A             10                  1    24hrs+weekends   \n",
       "150                    12              2                N/A    24hrs+weekends   \n",
       "151                   152            N/A                N/A    24hrs+weekends   \n",
       "152                   102            N/A               None    24hrs+weekends   \n",
       "\n",
       "    Comments                   geometry  \n",
       "0       None  POINT (36.88775 -1.25761)  \n",
       "1       None    POINT (36.9147 -1.3062)  \n",
       "2       None    POINT (36.8887 -1.3243)  \n",
       "3       None   POINT (36.73988 -1.2859)  \n",
       "4       None    POINT (36.7493 -1.2646)  \n",
       "..       ...                        ...  \n",
       "148     None  POINT (36.80025 -1.29474)  \n",
       "149     None  POINT (36.87686 -1.25588)  \n",
       "150     None  POINT (36.72989 -1.29037)  \n",
       "151     None  POINT (36.82576 -1.30684)  \n",
       "152     None  POINT (36.72589 -1.33687)  \n",
       "\n",
       "[153 rows x 20 columns]"
      ]
     },
     "execution_count": 10,
     "metadata": {},
     "output_type": "execute_result"
    }
   ],
   "source": [
    "healthcare_facilities_validated"
   ]
  },
  {
   "cell_type": "code",
   "execution_count": 1,
   "metadata": {},
   "outputs": [],
   "source": [
    "import numpy as np"
   ]
  },
  {
   "cell_type": "code",
   "execution_count": 11,
   "metadata": {},
   "outputs": [
    {
     "ename": "KeyError",
     "evalue": "'specific_owner'",
     "output_type": "error",
     "traceback": [
      "\u001b[0;31m---------------------------------------------------------------------------\u001b[0m",
      "\u001b[0;31mKeyError\u001b[0m                                  Traceback (most recent call last)",
      "File \u001b[0;32m~/Dropbox/IDEAMAPS/ideamaps-models/models/emergency-maternal-care/scripts/.venv_requirements_test/lib/python3.9/site-packages/pandas/core/indexes/base.py:3812\u001b[0m, in \u001b[0;36mIndex.get_loc\u001b[0;34m(self, key)\u001b[0m\n\u001b[1;32m   3811\u001b[0m \u001b[38;5;28;01mtry\u001b[39;00m:\n\u001b[0;32m-> 3812\u001b[0m     \u001b[38;5;28;01mreturn\u001b[39;00m \u001b[38;5;28;43mself\u001b[39;49m\u001b[38;5;241;43m.\u001b[39;49m\u001b[43m_engine\u001b[49m\u001b[38;5;241;43m.\u001b[39;49m\u001b[43mget_loc\u001b[49m\u001b[43m(\u001b[49m\u001b[43mcasted_key\u001b[49m\u001b[43m)\u001b[49m\n\u001b[1;32m   3813\u001b[0m \u001b[38;5;28;01mexcept\u001b[39;00m \u001b[38;5;167;01mKeyError\u001b[39;00m \u001b[38;5;28;01mas\u001b[39;00m err:\n",
      "File \u001b[0;32mpandas/_libs/index.pyx:167\u001b[0m, in \u001b[0;36mpandas._libs.index.IndexEngine.get_loc\u001b[0;34m()\u001b[0m\n",
      "File \u001b[0;32mpandas/_libs/index.pyx:196\u001b[0m, in \u001b[0;36mpandas._libs.index.IndexEngine.get_loc\u001b[0;34m()\u001b[0m\n",
      "File \u001b[0;32mpandas/_libs/hashtable_class_helper.pxi:7088\u001b[0m, in \u001b[0;36mpandas._libs.hashtable.PyObjectHashTable.get_item\u001b[0;34m()\u001b[0m\n",
      "File \u001b[0;32mpandas/_libs/hashtable_class_helper.pxi:7096\u001b[0m, in \u001b[0;36mpandas._libs.hashtable.PyObjectHashTable.get_item\u001b[0;34m()\u001b[0m\n",
      "\u001b[0;31mKeyError\u001b[0m: 'specific_owner'",
      "\nThe above exception was the direct cause of the following exception:\n",
      "\u001b[0;31mKeyError\u001b[0m                                  Traceback (most recent call last)",
      "Cell \u001b[0;32mIn[11], line 2\u001b[0m\n\u001b[1;32m      1\u001b[0m conditions \u001b[38;5;241m=\u001b[39m [\n\u001b[0;32m----> 2\u001b[0m     \u001b[43mhealthcare_facilities_validated\u001b[49m\u001b[43m[\u001b[49m\u001b[38;5;124;43m'\u001b[39;49m\u001b[38;5;124;43mspecific_owner\u001b[39;49m\u001b[38;5;124;43m'\u001b[39;49m\u001b[43m]\u001b[49m\u001b[38;5;241m.\u001b[39misin([\u001b[38;5;241m1\u001b[39m, \u001b[38;5;241m3\u001b[39m, \u001b[38;5;241m6\u001b[39m]),\n\u001b[1;32m      3\u001b[0m     healthcare_facilities_validated[\u001b[38;5;124m'\u001b[39m\u001b[38;5;124mspecific_owner\u001b[39m\u001b[38;5;124m'\u001b[39m]\u001b[38;5;241m.\u001b[39misin([\u001b[38;5;241m2\u001b[39m, \u001b[38;5;241m4\u001b[39m, \u001b[38;5;241m5\u001b[39m])\n\u001b[1;32m      4\u001b[0m ]\n\u001b[1;32m      5\u001b[0m choices \u001b[38;5;241m=\u001b[39m [\u001b[38;5;124m'\u001b[39m\u001b[38;5;124mPublic Comprehensive EmOC\u001b[39m\u001b[38;5;124m'\u001b[39m, \u001b[38;5;124m'\u001b[39m\u001b[38;5;124mPrivate Comprehensive EmOC\u001b[39m\u001b[38;5;124m'\u001b[39m]\n\u001b[1;32m      7\u001b[0m \u001b[38;5;66;03m# Explicitly set the default to a string\u001b[39;00m\n",
      "File \u001b[0;32m~/Dropbox/IDEAMAPS/ideamaps-models/models/emergency-maternal-care/scripts/.venv_requirements_test/lib/python3.9/site-packages/geopandas/geodataframe.py:1750\u001b[0m, in \u001b[0;36mGeoDataFrame.__getitem__\u001b[0;34m(self, key)\u001b[0m\n\u001b[1;32m   1744\u001b[0m \u001b[38;5;28;01mdef\u001b[39;00m\u001b[38;5;250m \u001b[39m\u001b[38;5;21m__getitem__\u001b[39m(\u001b[38;5;28mself\u001b[39m, key):\n\u001b[1;32m   1745\u001b[0m \u001b[38;5;250m    \u001b[39m\u001b[38;5;124;03m\"\"\"\u001b[39;00m\n\u001b[1;32m   1746\u001b[0m \u001b[38;5;124;03m    If the result is a column containing only 'geometry', return a\u001b[39;00m\n\u001b[1;32m   1747\u001b[0m \u001b[38;5;124;03m    GeoSeries. If it's a DataFrame with any columns of GeometryDtype,\u001b[39;00m\n\u001b[1;32m   1748\u001b[0m \u001b[38;5;124;03m    return a GeoDataFrame.\u001b[39;00m\n\u001b[1;32m   1749\u001b[0m \u001b[38;5;124;03m    \"\"\"\u001b[39;00m\n\u001b[0;32m-> 1750\u001b[0m     result \u001b[38;5;241m=\u001b[39m \u001b[38;5;28;43msuper\u001b[39;49m\u001b[43m(\u001b[49m\u001b[43m)\u001b[49m\u001b[38;5;241;43m.\u001b[39;49m\u001b[38;5;21;43m__getitem__\u001b[39;49m\u001b[43m(\u001b[49m\u001b[43mkey\u001b[49m\u001b[43m)\u001b[49m\n\u001b[1;32m   1751\u001b[0m     \u001b[38;5;66;03m# Custom logic to avoid waiting for pandas GH51895\u001b[39;00m\n\u001b[1;32m   1752\u001b[0m     \u001b[38;5;66;03m# result is not geometry dtype for multi-indexes\u001b[39;00m\n\u001b[1;32m   1753\u001b[0m     \u001b[38;5;28;01mif\u001b[39;00m (\n\u001b[1;32m   1754\u001b[0m         pd\u001b[38;5;241m.\u001b[39mapi\u001b[38;5;241m.\u001b[39mtypes\u001b[38;5;241m.\u001b[39mis_scalar(key)\n\u001b[1;32m   1755\u001b[0m         \u001b[38;5;129;01mand\u001b[39;00m key \u001b[38;5;241m==\u001b[39m \u001b[38;5;124m\"\u001b[39m\u001b[38;5;124m\"\u001b[39m\n\u001b[0;32m   (...)\u001b[0m\n\u001b[1;32m   1758\u001b[0m         \u001b[38;5;129;01mand\u001b[39;00m \u001b[38;5;129;01mnot\u001b[39;00m is_geometry_type(result)\n\u001b[1;32m   1759\u001b[0m     ):\n",
      "File \u001b[0;32m~/Dropbox/IDEAMAPS/ideamaps-models/models/emergency-maternal-care/scripts/.venv_requirements_test/lib/python3.9/site-packages/pandas/core/frame.py:4107\u001b[0m, in \u001b[0;36mDataFrame.__getitem__\u001b[0;34m(self, key)\u001b[0m\n\u001b[1;32m   4105\u001b[0m \u001b[38;5;28;01mif\u001b[39;00m \u001b[38;5;28mself\u001b[39m\u001b[38;5;241m.\u001b[39mcolumns\u001b[38;5;241m.\u001b[39mnlevels \u001b[38;5;241m>\u001b[39m \u001b[38;5;241m1\u001b[39m:\n\u001b[1;32m   4106\u001b[0m     \u001b[38;5;28;01mreturn\u001b[39;00m \u001b[38;5;28mself\u001b[39m\u001b[38;5;241m.\u001b[39m_getitem_multilevel(key)\n\u001b[0;32m-> 4107\u001b[0m indexer \u001b[38;5;241m=\u001b[39m \u001b[38;5;28;43mself\u001b[39;49m\u001b[38;5;241;43m.\u001b[39;49m\u001b[43mcolumns\u001b[49m\u001b[38;5;241;43m.\u001b[39;49m\u001b[43mget_loc\u001b[49m\u001b[43m(\u001b[49m\u001b[43mkey\u001b[49m\u001b[43m)\u001b[49m\n\u001b[1;32m   4108\u001b[0m \u001b[38;5;28;01mif\u001b[39;00m is_integer(indexer):\n\u001b[1;32m   4109\u001b[0m     indexer \u001b[38;5;241m=\u001b[39m [indexer]\n",
      "File \u001b[0;32m~/Dropbox/IDEAMAPS/ideamaps-models/models/emergency-maternal-care/scripts/.venv_requirements_test/lib/python3.9/site-packages/pandas/core/indexes/base.py:3819\u001b[0m, in \u001b[0;36mIndex.get_loc\u001b[0;34m(self, key)\u001b[0m\n\u001b[1;32m   3814\u001b[0m     \u001b[38;5;28;01mif\u001b[39;00m \u001b[38;5;28misinstance\u001b[39m(casted_key, \u001b[38;5;28mslice\u001b[39m) \u001b[38;5;129;01mor\u001b[39;00m (\n\u001b[1;32m   3815\u001b[0m         \u001b[38;5;28misinstance\u001b[39m(casted_key, abc\u001b[38;5;241m.\u001b[39mIterable)\n\u001b[1;32m   3816\u001b[0m         \u001b[38;5;129;01mand\u001b[39;00m \u001b[38;5;28many\u001b[39m(\u001b[38;5;28misinstance\u001b[39m(x, \u001b[38;5;28mslice\u001b[39m) \u001b[38;5;28;01mfor\u001b[39;00m x \u001b[38;5;129;01min\u001b[39;00m casted_key)\n\u001b[1;32m   3817\u001b[0m     ):\n\u001b[1;32m   3818\u001b[0m         \u001b[38;5;28;01mraise\u001b[39;00m InvalidIndexError(key)\n\u001b[0;32m-> 3819\u001b[0m     \u001b[38;5;28;01mraise\u001b[39;00m \u001b[38;5;167;01mKeyError\u001b[39;00m(key) \u001b[38;5;28;01mfrom\u001b[39;00m\u001b[38;5;250m \u001b[39m\u001b[38;5;21;01merr\u001b[39;00m\n\u001b[1;32m   3820\u001b[0m \u001b[38;5;28;01mexcept\u001b[39;00m \u001b[38;5;167;01mTypeError\u001b[39;00m:\n\u001b[1;32m   3821\u001b[0m     \u001b[38;5;66;03m# If we have a listlike key, _check_indexing_error will raise\u001b[39;00m\n\u001b[1;32m   3822\u001b[0m     \u001b[38;5;66;03m#  InvalidIndexError. Otherwise we fall through and re-raise\u001b[39;00m\n\u001b[1;32m   3823\u001b[0m     \u001b[38;5;66;03m#  the TypeError.\u001b[39;00m\n\u001b[1;32m   3824\u001b[0m     \u001b[38;5;28mself\u001b[39m\u001b[38;5;241m.\u001b[39m_check_indexing_error(key)\n",
      "\u001b[0;31mKeyError\u001b[0m: 'specific_owner'"
     ]
    }
   ],
   "source": [
    "conditions = [\n",
    "    healthcare_facilities_validated['specific_owner'].isin([1, 3, 6]),\n",
    "    healthcare_facilities_validated['specific_owner'].isin([2, 4, 5])\n",
    "]\n",
    "choices = ['Public Comprehensive EmOC', 'Private Comprehensive EmOC']\n",
    "\n",
    "# Explicitly set the default to a string\n",
    "healthcare_facilities_validated['Validation'] = np.select(\n",
    "    conditions, choices, default='Other'\n",
    ")"
   ]
  },
  {
   "cell_type": "code",
   "execution_count": null,
   "metadata": {},
   "outputs": [],
   "source": [
    "study_area = gpd.read_file(data_inputs + '100mGrid.gpkg')\n",
    "raster_path = data_inputs + 'nga_f_15_49_2015_1km.tif'"
   ]
  },
  {
   "cell_type": "code",
   "execution_count": 2,
   "metadata": {},
   "outputs": [
    {
     "ename": "ModuleNotFoundError",
     "evalue": "No module named 'rasterio'",
     "output_type": "error",
     "traceback": [
      "\u001b[0;31m---------------------------------------------------------------------------\u001b[0m",
      "\u001b[0;31mModuleNotFoundError\u001b[0m                       Traceback (most recent call last)",
      "Cell \u001b[0;32mIn[2], line 1\u001b[0m\n\u001b[0;32m----> 1\u001b[0m \u001b[38;5;28;01mimport\u001b[39;00m\u001b[38;5;250m \u001b[39m\u001b[38;5;21;01mrasterio\u001b[39;00m\n\u001b[1;32m      2\u001b[0m \u001b[38;5;28;01mfrom\u001b[39;00m\u001b[38;5;250m \u001b[39m\u001b[38;5;21;01mrasterio\u001b[39;00m\u001b[38;5;21;01m.\u001b[39;00m\u001b[38;5;21;01mmask\u001b[39;00m\u001b[38;5;250m \u001b[39m\u001b[38;5;28;01mimport\u001b[39;00m mask\n",
      "\u001b[0;31mModuleNotFoundError\u001b[0m: No module named 'rasterio'"
     ]
    }
   ],
   "source": [
    "pip install rasterio\n",
    "import rasterio\n",
    "from rasterio.mask import mask"
   ]
  },
  {
   "cell_type": "code",
   "execution_count": null,
   "metadata": {},
   "outputs": [],
   "source": [
    "with rasterio.open(raster_path) as dataset:\n",
    "    geometries = [study_area.geometry.unary_union.__geo_interface__]\n",
    "    clipped_image, clipped_transform = mask(dataset, geometries, crop=True)\n",
    "    band1 = clipped_image[0] # Read the first band of the raster"
   ]
  },
  {
   "cell_type": "code",
   "execution_count": null,
   "metadata": {},
   "outputs": [],
   "source": [
    "out_meta = dataset.meta.copy()\n",
    "out_meta.update({\n",
    "        \"height\": clipped_image.shape[1],\n",
    "        \"width\": clipped_image.shape[2],\n",
    "        \"transform\": clipped_transform\n",
    "    })"
   ]
  },
  {
   "cell_type": "code",
   "execution_count": null,
   "metadata": {},
   "outputs": [],
   "source": [
    "with rasterio.open(data_inputs + 'nairobi_nga_f_15_49_2015_1km.tif', \"w\", **out_meta) as dest:\n",
    "    dest.write(clipped_image)"
   ]
  },
  {
   "cell_type": "code",
   "execution_count": null,
   "metadata": {},
   "outputs": [],
   "source": [
    "rows, cols = np.where(band1 > 0)\n",
    "grid_cells = [clipped_transform * (col + 0.5, row + 0.5) for row, col in zip(rows, cols)]\n",
    "population_values = band1[rows, cols]"
   ]
  },
  {
   "cell_type": "code",
   "execution_count": 3,
   "metadata": {},
   "outputs": [],
   "source": [
    "from shapely.geometry import Point\n",
    "import pandas as pd"
   ]
  },
  {
   "cell_type": "code",
   "execution_count": null,
   "metadata": {},
   "outputs": [],
   "source": [
    "grid_df = pd.DataFrame(grid_cells, columns=[\"longitude\", \"latitude\"])\n",
    "grid_df[\"population\"] = population_values\n",
    "\n",
    "grid_df[\"grid_code\"] = range(len(grid_df))\n",
    "population_centroids_gdf = gpd.GeoDataFrame(grid_df, geometry=[Point(xy) for xy in zip(grid_df[\"longitude\"], grid_df[\"latitude\"])])\n",
    "population_centroids_gdf.set_crs(\"EPSG:4326\", inplace=True)\n",
    "\n",
    "population_centroids_gdf.to_file(data_temp + \"population_centroids.gpkg\", driver=\"GPKG\")"
   ]
  },
  {
   "cell_type": "code",
   "execution_count": null,
   "metadata": {},
   "outputs": [],
   "source": [
    "from pathlib import Path\n",
    "from shapely.geometry import Polygon"
   ]
  },
  {
   "cell_type": "code",
   "execution_count": null,
   "metadata": {},
   "outputs": [],
   "source": [
    "def read_tif(file: Path):\n",
    "    if not file.exists():\n",
    "        raise FileNotFoundError(f'File {file} not found')\n",
    "\n",
    "    with rasterio.open(file) as dataset:\n",
    "        arr = dataset.read()  # (bands X height X width)\n",
    "        nodata = dataset.nodata\n",
    "        transform = dataset.transform\n",
    "        crs = dataset.crs\n",
    "\n",
    "    # Replace NoData value with NaN\n",
    "    if nodata is not None:\n",
    "        arr[arr == nodata] = np.nan\n",
    "\n",
    "    return arr.transpose((1, 2, 0)), transform, crs\n",
    "\n",
    "def raster2vector(arr, transform, crs) -> gpd.GeoDataFrame:\n",
    "    height, width, bands = arr.shape\n",
    "\n",
    "    # Generate pixel coordinates\n",
    "    geometries = []\n",
    "    pixel_values = []\n",
    "\n",
    "    for row in range(height):\n",
    "        for col in range(width):\n",
    "            x_min, y_max = transform * (col, row)  # Top-left corner\n",
    "            x_max, y_min = transform * (col + 1, row + 1)  # Bottom-right corner\n",
    "\n",
    "            pixel_value = arr[row, col].tolist()[0]  # Convert numpy array to list\n",
    "            polygon = Polygon([(x_min, y_max), (x_max, y_max), (x_max, y_min), (x_min, y_min)])\n",
    "\n",
    "            geometries.append(polygon)\n",
    "            pixel_values.append(pixel_value)\n",
    "\n",
    "    # Convert to DataFrame\n",
    "    gdf = gpd.GeoDataFrame({'pop_grid_pop': pixel_values, 'geometry': geometries}, crs=crs)\n",
    "\n",
    "    return gdf\n",
    "\n",
    "epsg = 'EPSG:32632'"
   ]
  },
  {
   "cell_type": "code",
   "execution_count": null,
   "metadata": {},
   "outputs": [],
   "source": [
    "# Preparing grid\n",
    "grid_file = data_inputs + '100mGrid.gpkg'\n",
    "grid = gpd.read_file(grid_file)\n",
    "grid = grid.to_crs(epsg)\n",
    "grid['grid_id'] = range(len(grid))\n",
    "grid = grid[['grid_id', 'geometry','rowid', 'latitude', 'lat_min', 'lat_max', 'longitude', 'lon_min','lon_max']].set_geometry('geometry')\n",
    "grid"
   ]
  },
  {
   "cell_type": "code",
   "execution_count": null,
   "metadata": {},
   "outputs": [],
   "source": [
    "# Count buildings per grid cell\n",
    "\n",
    "# Loading Google building footprints\n",
    "building_file = data_inputs + 'Nairobi_GOBv3.gpkg'\n",
    "buildings = gpd.read_file(building_file)\n",
    "buildings = buildings.to_crs(epsg)\n",
    "buildings['centroid'] = buildings['geometry'].centroid\n",
    "\n",
    "# Joining buildings to grid\n",
    "grid_buildings = grid.sjoin(buildings.set_geometry('centroid').drop(columns='geometry'), how='inner', predicate='intersects')\n",
    "grid_buildings = grid_buildings.groupby('grid_id')\n",
    "\n",
    "# Counting buildings per grid\n",
    "building_counts = grid_buildings.size().rename('bcount')\n",
    "\n",
    "# Adding building count to grid cells\n",
    "grid = grid.merge(building_counts, on='grid_id', how='left')\n",
    "\n",
    "# Assign building count 0 to cells with no buildings (NaN)\n",
    "grid['bcount'] = grid['bcount'].fillna(0)\n",
    "grid"
   ]
  },
  {
   "cell_type": "code",
   "execution_count": null,
   "metadata": {},
   "outputs": [],
   "source": [
    "# Adding population data at 1km grid to finer grid\n",
    "from pathlib import Path\n",
    "\n",
    "data_path = Path(data_inputs)\n",
    "\n",
    "# Loading coarse pop data\n",
    "pop_file = data_path / 'nairobi_nga_f_15_49_2015_1km.tif'\n",
    "pop_raster, transform, crs = read_tif(pop_file)\n",
    "\n",
    "# Converting the raster grid to vector data\n",
    "pop_grid = raster2vector(pop_raster, transform, crs)\n",
    "pop_grid = pop_grid.to_crs(epsg)\n",
    "pop_grid['pop_grid_id'] = range(len(pop_grid))\n",
    "\n",
    "# Assign coarse population data to finer grid based on the centroid locations of the finer grid cells\n",
    "grid['centroid'] = grid['geometry'].centroid\n",
    "grid = gpd.sjoin(grid.set_geometry('centroid'), pop_grid, how='left', predicate='within')\n",
    "print(grid.columns)\n",
    "grid = grid[['grid_id', 'bcount', 'pop_grid_id', 'geometry','rowid', 'latitude', 'lat_min', 'lat_max',\n",
    "       'longitude', 'lon_min', 'lon_max']]\n",
    "grid.head()"
   ]
  },
  {
   "cell_type": "code",
   "execution_count": null,
   "metadata": {},
   "outputs": [],
   "source": [
    "# Calculate population weight (fraction of total population count that should be assigned to cell based on its building count)\n",
    "grid_grouped_pop = grid.groupby('pop_grid_id')\n",
    "building_count_pop = grid_grouped_pop['bcount'].sum().rename('pop_grid_bcount')\n",
    "grid = grid.merge(building_count_pop, on='pop_grid_id', how='left')\n",
    "grid['pop_weight'] = grid['bcount'] / grid['pop_grid_bcount']\n",
    "\n",
    "# Compute disaggregated population count based on weight and building count at coarser cell level\n",
    "grid = grid.merge(pop_grid, on='pop_grid_id', how='left')\n",
    "grid['pop'] = grid['pop_grid_pop'] * grid['pop_weight']\n",
    "grid.head()"
   ]
  },
  {
   "cell_type": "code",
   "execution_count": null,
   "metadata": {},
   "outputs": [],
   "source": [
    "# Saving to file\n",
    "grid = grid.drop(columns=[\"geometry_y\"])\n",
    "grid.head()"
   ]
  },
  {
   "cell_type": "code",
   "execution_count": null,
   "metadata": {},
   "outputs": [],
   "source": [
    "grid = grid.set_geometry(\"geometry_x\")\n",
    "grid = grid.to_crs(4326)\n",
    "grid.to_file(data_temp + 'pop-grid-nairobi-centroids.gpkg', driver='GPKG')"
   ]
  },
  {
   "cell_type": "code",
   "execution_count": null,
   "metadata": {},
   "outputs": [],
   "source": [
    "origin_gdf = population_centroids_gdf\n",
    "origin_name_column = 'grid_code'\n",
    "destination_gdf = healthcare_facilities_validated.dropna(subset=['geometry'])\n",
    "destination_name_column = 'facility_name'"
   ]
  },
  {
   "cell_type": "code",
   "execution_count": null,
   "metadata": {},
   "outputs": [],
   "source": [
    "origins = list(zip(origin_gdf.geometry.x, origin_gdf.geometry.y))"
   ]
  },
  {
   "cell_type": "code",
   "execution_count": null,
   "metadata": {},
   "outputs": [],
   "source": [
    "destinations = list(zip(destination_gdf.geometry.x, destination_gdf.geometry.y))"
   ]
  },
  {
   "cell_type": "code",
   "execution_count": null,
   "metadata": {},
   "outputs": [],
   "source": [
    "locations = origins + destinations"
   ]
  },
  {
   "cell_type": "code",
   "execution_count": null,
   "metadata": {},
   "outputs": [],
   "source": [
    "origins_index = list(range(0, len(origins)))\n",
    "destinations_index = list(range(len(origins), len(locations)))"
   ]
  },
  {
   "cell_type": "code",
   "execution_count": null,
   "metadata": {},
   "outputs": [],
   "source": [
    "import requests"
   ]
  },
  {
   "cell_type": "code",
   "execution_count": null,
   "metadata": {},
   "outputs": [],
   "source": [
    "body = {'locations': locations,\n",
    "       'destinations': destinations_index,\n",
    "       'sources': origins_index,\n",
    "       'metrics': ['distance', 'duration']}\n",
    "\n",
    "headers = {\n",
    "    'Accept': 'application/json, application/geo+json, application/gpx+xml, img/png; charset=utf-8',\n",
    "    'Authorization': api_key,\n",
    "    'Content-Type': 'application/json; charset=utf-8'\n",
    "}\n",
    "\n",
    "response = requests.post('https://api.openrouteservice.org/v2/matrix/driving-car', json=body, headers=headers)"
   ]
  },
  {
   "cell_type": "code",
   "execution_count": null,
   "metadata": {},
   "outputs": [],
   "source": [
    "distances = response.json().get('distances', [])\n",
    "durations = response.json().get('durations', [])"
   ]
  },
  {
   "cell_type": "code",
   "execution_count": null,
   "metadata": {},
   "outputs": [],
   "source": [
    "distances_duration_matrix = []\n",
    "\n",
    "# Iterate over each origin (grid)\n",
    "for origin_index, origin in origin_gdf.iterrows():\n",
    "    origin_name = origin[origin_name_column]\n",
    "    origin_x = origin.geometry.x\n",
    "    origin_y = origin.geometry.y\n",
    "    origin_distances = distances[origin_index]\n",
    "    origin_durations = durations[origin_index]\n",
    "\n",
    "    # find the minimum duration and the index of the minimum duration\n",
    "    min_duration = min(origin_durations)\n",
    "    min_index = origin_durations.index(min_duration)\n",
    "    destination_index = destinations_index[min_index]\n",
    "    dest_x, dest_y = locations[destination_index]\n",
    "    filtered = healthcare_facilities_validated[(destination_gdf.geometry.x == dest_x) & (destination_gdf.geometry.y == dest_y) ]\n",
    "    destination_row = filtered.iloc[0]\n",
    "    dest_name = destination_row[destination_name_column]\n",
    "\n",
    "        # Append both the distance and duration for this origin-destination pair\n",
    "    distances_duration_matrix.append([\n",
    "            origin_name, origin_y, origin_x,\n",
    "            dest_name, dest_y, dest_x,\n",
    "            min_duration\n",
    "        ])\n",
    "\n",
    "# Convert the results into a DataFrame\n",
    "matrix_df = pd.DataFrame(distances_duration_matrix, columns=[\n",
    "    'grid_code','origin_lat', 'origin_lon',\n",
    "    'destination_name', 'dest_lat', 'dest_lon','min_duration'\n",
    "])"
   ]
  },
  {
   "cell_type": "code",
   "execution_count": null,
   "metadata": {},
   "outputs": [],
   "source": [
    "# Save to CSV\n",
    "merged_df = pd.merge(matrix_df, grid_df[['grid_code', 'population']], on='grid_code', how='left')\n",
    "merged_df.to_csv(data_temp + 'distance_duration_matrix_temp.csv', index=False)"
   ]
  },
  {
   "cell_type": "code",
   "execution_count": null,
   "metadata": {},
   "outputs": [],
   "source": [
    "geometry = [Point(xy) for xy in zip(merged_df['dest_lon'], merged_df['dest_lat'])]\n",
    "gdf = gpd.GeoDataFrame(merged_df, geometry=geometry, crs=\"EPSG:4326\")\n",
    "\n",
    "gpkg_path = data_temp + 'distance_duration_matrix_temp.gpkg'\n",
    "gdf.to_file(gpkg_path, layer=\"duration_matrix\", driver=\"GPKG\")"
   ]
  },
  {
   "cell_type": "code",
   "execution_count": null,
   "metadata": {},
   "outputs": [],
   "source": [
    "# If not loaded yet, read from the temporary folder\n",
    "centroids_df = gpd.read_file(data_temp +'pop-grid-nairobi-centroids.gpkg')\n",
    "centroids_df"
   ]
  },
  {
   "cell_type": "code",
   "execution_count": null,
   "metadata": {},
   "outputs": [],
   "source": [
    "# If not loaded yet, read from the temporary folder\n",
    "matrix_df = pd.read_csv(data_temp + 'OD-matrix-nairobi-access-emoc.csv')\n",
    "matrix_df"
   ]
  },
  {
   "cell_type": "code",
   "execution_count": null,
   "metadata": {},
   "outputs": [],
   "source": [
    "pop_centroids_hcf = pd.merge(matrix_df, centroids_df[['grid_id', 'bcount', 'pop_grid_bcount', 'pop_grid_pop', 'pop', 'geometry']], \n",
    "                     left_on='origin_id', right_on='grid_id', how='left')\n",
    "pop_centroids_hcf"
   ]
  },
  {
   "cell_type": "code",
   "execution_count": null,
   "metadata": {},
   "outputs": [],
   "source": [
    "distances_duration_matrix = pd.merge(pop_centroids_hcf, \n",
    "                                     healthcare_facilities_validated[['fid', 'Facility_n', 'Facility_t', 'Ownership', \n",
    "                                                                      'Lat', 'Long', 'Level', 'Offer EmOC (Y/N)',\n",
    "                                                                      'Total In-patient beds', 'Maternity beds', \n",
    "                                                                      'Maternity theatres', 'Maternity beds', \n",
    "                                                                      'Maternity theatres', 'Operating time', \n",
    "                                                                      'Type of EmOC (basic/comprehensive)', 'geometry']], \n",
    "                     left_on='destination_id', right_on='fid', how='left')\n",
    "distances_duration_matrix"
   ]
  },
  {
   "cell_type": "code",
   "execution_count": null,
   "metadata": {},
   "outputs": [],
   "source": [
    "def local_validation(row):\n",
    "    if row[\"Ownership\"] in [\"Local authority\", \"MoH\"] and row[\"Type of EmOC (basic/comprehensive)\"] == \"BMOC\":\n",
    "        return \"Public Basic EmOC\"\n",
    "    elif row[\"Ownership\"] in [\"Local authority\", \"MoH\"] and row[\"Type of EmOC (basic/comprehensive)\"] != \"BMOC\":\n",
    "        return \"Public Comprehensive EmOC\"\n",
    "    elif row[\"Ownership\"] not in [\"Local authority\", \"MoH\"] and row[\"Type of EmOC (basic/comprehensive)\"] == \"BMOC\":\n",
    "        return \"Private Basic EmOC\"\n",
    "    elif row[\"Ownership\"] not in [\"Local authority\", \"MoH\"] and row[\"Type of EmOC (basic/comprehensive)\"] != \"BMOC\":\n",
    "        return \"Private Comprehensive EmOC\"\n",
    "    else:\n",
    "        return \"Other\"\n",
    "\n",
    "distances_duration_matrix[\"Local_Validation\"] = distances_duration_matrix.apply(local_validation, axis=1)"
   ]
  },
  {
   "cell_type": "code",
   "execution_count": null,
   "metadata": {},
   "outputs": [],
   "source": [
    "# Step 1: creat subsets based on categories of 'Validation of HCFs Categorization'\n",
    "categories = {\n",
    "    \"public_comprehensive_EmOC\": [\"Public Comprehensive EmOC\"],\n",
    "    \"private_comprehensive_EmOC\": [\"Private Comprehensive EmOC\"],\n",
    "    \"private_basic_EmOC\": [\"Private Basic EmOC\"],\n",
    "    \"public_basic_EmOC\": [\"Public Basic EmOC\"]\n",
    "}\n",
    "\n",
    "subsets = {\n",
    "    key: distances_duration_matrix[\n",
    "        distances_duration_matrix['Local_Validation'].str.contains('|'.join(values), na=False)\n",
    "    ]\n",
    "    for key, values in categories.items()\n",
    "}\n",
    "\n",
    "public_CEmOC = subsets[\"public_comprehensive_EmOC\"]\n",
    "private_CEmOC = subsets[\"private_comprehensive_EmOC\"]\n",
    "public_BEmOC = subsets[\"public_basic_EmOC\"]\n",
    "private_BEmOC = subsets[\"private_basic_EmOC\"]"
   ]
  },
  {
   "cell_type": "code",
   "execution_count": null,
   "metadata": {},
   "outputs": [],
   "source": [
    "# Step 2: Define a function to get 3 smallest duration_seconds per grid_id for each category\n",
    "def get_closest_3(df, n=3):\n",
    "    return df.groupby('grid_id').apply(lambda x: x.nsmallest(n, 'duration_seconds')).reset_index(drop=True)\n",
    "                      \n",
    "# If the subsets are already created for each category, we apply the function to each subset:\n",
    "public_CEmOC_closest_3 = get_closest_3(public_CEmOC)\n",
    "private_CEmOC_closest_3 = get_closest_3(private_CEmOC)\n",
    "public_BEmOC_closest_3 = get_closest_3(public_BEmOC)\n",
    "private_BEmOC_closest_3 = get_closest_3(private_BEmOC)\n",
    "\n",
    "# Step 4: Concatenate the filtered results into a single DataFrame\n",
    "distances_duration_matrix = pd.concat([\n",
    "    public_CEmOC_closest_3, private_CEmOC_closest_3,\n",
    "    public_BEmOC_closest_3, private_BEmOC_closest_3\n",
    "])"
   ]
  },
  {
   "cell_type": "code",
   "execution_count": null,
   "metadata": {},
   "outputs": [],
   "source": [
    "distances_duration_matrix = distances_duration_matrix.rename(columns={\n",
    "    \"geometry_x\": \"geometry\",\n",
    "    \"Long\": \"longitude_hcf\",\n",
    "    \"Lat\": \"latitude_hcf\",\n",
    "    \"Facility_n\": \"facility_name\",\n",
    "    \"pop\": \"population\",\n",
    "    \"Local_Validation\": \"local_validation\",\n",
    "    \"geometry_y\": \"geometry_hcf\",\n",
    "    \"fid\": \"hcf_id\"\n",
    "})\n",
    "columns_to_keep = [\"grid_id\", \"hcf_id\",  \"longitude_hcf\", \"latitude_hcf\", \"facility_name\", \"local_validation\", \n",
    "                   \"population\", \"duration_seconds\", \"distance_km\", \"geometry\"]\n",
    "pop_centroids_closest_hcf = distances_duration_matrix[columns_to_keep]"
   ]
  },
  {
   "cell_type": "code",
   "execution_count": null,
   "metadata": {},
   "outputs": [],
   "source": [
    "origin_dest = pop_centroids_closest_hcf"
   ]
  },
  {
   "cell_type": "code",
   "execution_count": null,
   "metadata": {},
   "outputs": [],
   "source": [
    "# Function\n",
    "d = 10 * 60 # try max duration 10mins/30mins car, under estimation of travel time and traffic condition realted to the selected data sourse \n",
    "W = 0.5\n",
    "beta = - d ** 2 / log(W)\n",
    "print(beta)"
   ]
  },
  {
   "cell_type": "code",
   "execution_count": null,
   "metadata": {},
   "outputs": [],
   "source": [
    "# Convert 'duration' to numeric, coercing errors to NaN\n",
    "origin_dest['duration_seconds'] = pd.to_numeric(origin_dest['duration_seconds'], errors='coerce')\n",
    "\n",
    "# Drop rows with NaN values in 'duration' column\n",
    "origin_dest = origin_dest.dropna(subset=['duration_seconds'])\n",
    "origin_dest['grid_id'] = pd.to_numeric(origin_dest['grid_id'], errors='coerce')\n",
    "\n",
    "origin_dest_acc = origin_dest  # Backup"
   ]
  },
  {
   "cell_type": "code",
   "execution_count": null,
   "metadata": {},
   "outputs": [],
   "source": [
    "import math"
   ]
  },
  {
   "cell_type": "code",
   "execution_count": null,
   "metadata": {},
   "outputs": [],
   "source": [
    "# Apply Gaussian decay function to calculate the weight of each grid to healthcare \n",
    "# facilities based on the travel duration. d is the travel time and beta is the decay \n",
    "# parameter previously calculated.\n",
    "# The weight decreases as the duration increases, meaning facilities that are further away have less impact.\n",
    "origin_dest_acc['Weight'] = origin_dest_acc['duration_seconds'].apply(lambda d: round(math.exp(-d**2/beta), 8))"
   ]
  },
  {
   "cell_type": "code",
   "execution_count": null,
   "metadata": {},
   "outputs": [],
   "source": [
    "# Compute the Weighted Population (Pop_W), the population of each grid cell is multiplied \n",
    "# by the corresponding weight to calculate the weighted population.\n",
    "origin_dest_acc['Pop_W'] = origin_dest_acc['population'] * origin_dest_acc['Weight']"
   ]
  },
  {
   "cell_type": "code",
   "execution_count": null,
   "metadata": {},
   "outputs": [],
   "source": [
    "# Sum the Weighted Population\n",
    "origin_dest_sum = origin_dest_acc.groupby(by='hcf_id')['Pop_W'].sum().reset_index()"
   ]
  },
  {
   "cell_type": "code",
   "execution_count": null,
   "metadata": {},
   "outputs": [],
   "source": [
    "# Merge the Sum of Weighted Population Back into the Original Data\n",
    "origin_dest_acc = origin_dest_acc.merge(origin_dest_sum, on='hcf_id')"
   ]
  },
  {
   "cell_type": "code",
   "execution_count": null,
   "metadata": {},
   "outputs": [],
   "source": [
    "# Suppy is based on the categories of ownership and service level of the healthcare facilities\n",
    "supply_map = {\n",
    "    'Public Comprehensive EmOC': 1,\n",
    "    'Private Comprehensive EmOC': 0.7,\n",
    "    'Public Basic EmOC': 0.5,\n",
    "    'Private Basic EmOC': 0.35\n",
    "}"
   ]
  },
  {
   "cell_type": "code",
   "execution_count": null,
   "metadata": {},
   "outputs": [],
   "source": [
    "# Compute the Supply-Demand Ratio (Rj)\n",
    "origin_dest_acc['supply'] = origin_dest_acc['local_validation'].map(supply_map)\n",
    "origin_dest_acc['supply_demand_ratio'] = 1 / origin_dest_acc.Pop_W_S\n",
    "origin_dest_acc['supply_demand_ratio'].replace([np.inf, np.nan], 0, inplace=True)"
   ]
  },
  {
   "cell_type": "code",
   "execution_count": null,
   "metadata": {},
   "outputs": [],
   "source": [
    "# Calculate Rj * Weight for Each Grid Cell\n",
    "origin_dest_acc['supply_W'] = origin_dest_acc['supply_demand_ratio'] * origin_dest_acc.Weight"
   ]
  },
  {
   "cell_type": "code",
   "execution_count": null,
   "metadata": {},
   "outputs": [],
   "source": [
    "# Compute Accessibility Index (Ai) for Each Grid Cell\n",
    "origin_dest_acc['Accessibility'] = origin_dest_acc.groupby('grid_id')['supply_W'].transform('sum')"
   ]
  },
  {
   "cell_type": "code",
   "execution_count": null,
   "metadata": {},
   "outputs": [],
   "source": [
    "! pip install scikit-learn\n",
    "from sklearn.preprocessing import MinMaxScaler"
   ]
  },
  {
   "cell_type": "code",
   "execution_count": null,
   "metadata": {},
   "outputs": [],
   "source": [
    "# Normalize\n",
    "\n",
    "scaler = MinMaxScaler()\n",
    "origin_dest_acc['Accessibility_standard'] = scaler.fit_transform(origin_dest_acc[['Accessibility']])"
   ]
  },
  {
   "cell_type": "code",
   "execution_count": null,
   "metadata": {},
   "outputs": [],
   "source": [
    "max(origin_dest_acc.Accessibility_standard)"
   ]
  },
  {
   "cell_type": "code",
   "execution_count": null,
   "metadata": {},
   "outputs": [],
   "source": [
    "origin_dest_acc_gdf = gpd.GeoDataFrame(origin_dest_acc, geometry='geometry', crs=\"EPSG:4326\")\n",
    "gpkg_path = data_temp + 'acc_score_3closest.gpkg'\n",
    "origin_dest_acc_gdf.to_file(gpkg_path, layer=\"acc_score_3closest\", driver=\"GPKG\")"
   ]
  },
  {
   "cell_type": "code",
   "execution_count": null,
   "metadata": {},
   "outputs": [],
   "source": [
    "# Read the GeoPackage file (if starting from this section)\n",
    "results_grid = gpd.read_file(data_temp + 'acc_score_3closest.gpkg')"
   ]
  },
  {
   "cell_type": "code",
   "execution_count": null,
   "metadata": {},
   "outputs": [],
   "source": [
    "# Group by multiple columns and calculate the mean for numeric columns\n",
    "# results_grid = results_grid.groupby(['grid_id', 'origin_lon', 'origin_lat', 'origin_lon_min', 'origin_lat_min', 'origin_lon_max', 'origin_lat_max', 'Accessibility_standard']).count().reset_index()\n",
    "\n",
    "results_grid = results_grid.drop_duplicates(['grid_id', 'Accessibility_standard', 'geometry'])\n",
    "\n",
    "type(results_grid)"
   ]
  },
  {
   "cell_type": "code",
   "execution_count": null,
   "metadata": {},
   "outputs": [],
   "source": [
    "results_grid['result'] = -1\n",
    "results_grid.loc[results_grid['Accessibility_standard'] > 0, 'result'] = 2\n",
    "results_grid.loc[results_grid['Accessibility_standard'] > pow(10, -1.3605), 'result'] = 1\n",
    "results_grid.loc[results_grid['Accessibility_standard'] > pow(10, -1.1293), 'result'] = 0\n"
   ]
  },
  {
   "cell_type": "code",
   "execution_count": null,
   "metadata": {},
   "outputs": [],
   "source": [
    "category_counts = results_grid['result'].value_counts()\n",
    "print(category_counts)"
   ]
  },
  {
   "cell_type": "code",
   "execution_count": null,
   "metadata": {},
   "outputs": [],
   "source": [
    "category_counts = results_grid['focused'].value_counts()\n",
    "print(category_counts)"
   ]
  },
  {
   "cell_type": "code",
   "execution_count": null,
   "metadata": {},
   "outputs": [],
   "source": [
    "results_grid['focused'] = 0\n",
    "# Focus areas between the High and medium categories\n",
    "results_grid.loc[(results_grid['Accessibility_standard'] < pow(10, -1.26)) & (results_grid['Accessibility_standard'] > pow(10, -1.46)), 'focused'] = 1\n",
    "\n",
    "results_grid"
   ]
  },
  {
   "cell_type": "code",
   "execution_count": null,
   "metadata": {},
   "outputs": [],
   "source": [
    "results_grid = results_grid.loc[results_grid['result'] != -1]"
   ]
  },
  {
   "cell_type": "code",
   "execution_count": null,
   "metadata": {},
   "outputs": [],
   "source": [
    "# Extract bounding box coordinates and create columns for min and max coordinates\n",
    "results_grid['origin_lon_min'] = results_grid.geometry.apply(lambda geom: geom.bounds[0])\n",
    "results_grid['origin_lat_min'] = results_grid.geometry.apply(lambda geom: geom.bounds[1])\n",
    "results_grid['origin_lon_max'] = results_grid.geometry.apply(lambda geom: geom.bounds[2])\n",
    "results_grid['origin_lat_max'] = results_grid.geometry.apply(lambda geom: geom.bounds[3])"
   ]
  },
  {
   "cell_type": "code",
   "execution_count": null,
   "metadata": {},
   "outputs": [],
   "source": [
    "# Calculate centroid coordinates for each geometry and add as columns\n",
    "results_grid['longitude'] = results_grid.geometry.centroid.x\n",
    "results_grid['latitude'] = results_grid.geometry.centroid.y"
   ]
  },
  {
   "cell_type": "code",
   "execution_count": null,
   "metadata": {},
   "outputs": [],
   "source": [
    "results_grid = results_grid.rename(columns={\n",
    "    'origin_lon': 'longitude',\n",
    "    'origin_lat': 'latitude',\n",
    "    'origin_lon_min': 'lon_min',\n",
    "    'origin_lat_min': 'lat_min',\n",
    "    'origin_lon_max': 'lon_max',\n",
    "    'origin_lat_max': 'lat_max'\n",
    "})\n",
    "\n",
    "results_grid"
   ]
  },
  {
   "cell_type": "code",
   "execution_count": null,
   "metadata": {},
   "outputs": [],
   "source": [
    "# Save the results to a new GeoPackage file\n",
    "output_gpkg_path = data_temp + 'emergency-maternal-care-deprivation-access.gpkg'\n",
    "results_grid.to_file(output_gpkg_path, layer='emergency-maternal-care-deprivation-access', driver='GPKG')\n"
   ]
  },
  {
   "cell_type": "code",
   "execution_count": null,
   "metadata": {},
   "outputs": [],
   "source": [
    " #Save the results to a CSV file in the format required by the IDEAMAPS data ecosystem\n",
    "columns_to_keep = [\"longitude\", \"latitude\",  \"lon_min\", \"lat_min\", \"lon_max\", \"lat_max\", \n",
    "                   \"focused\", \"result\",]\n",
    "results_table = results_grid[columns_to_keep]\n",
    "\n",
    "results_table.to_csv(data_outputs + 'model-output.csv', index=False)"
   ]
  }
 ],
 "metadata": {
  "kernelspec": {
   "display_name": ".venv_requirements_test",
   "language": "python",
   "name": "python3"
  },
  "language_info": {
   "codemirror_mode": {
    "name": "ipython",
    "version": 3
   },
   "file_extension": ".py",
   "mimetype": "text/x-python",
   "name": "python",
   "nbconvert_exporter": "python",
   "pygments_lexer": "ipython3",
   "version": "3.9.6"
  }
 },
 "nbformat": 4,
 "nbformat_minor": 2
}
