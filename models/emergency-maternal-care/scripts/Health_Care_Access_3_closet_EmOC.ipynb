{
 "cells": [
  {
   "cell_type": "markdown",
   "metadata": {
    "magic_args": "[markdown]"
   },
   "source": [
    "# Analysis of Emergency Maternal Care Deprivation in Kano and Lagos, Nigeria\n",
    "> Note: This notebook requires the local environment dependencies listed in our [requirements.txt] (requirements.txt) file. Use this file to install the required packages in a virtual environment.\n",
    "\n",
    "> To excecute OpenRouteService functions, it is required to install the [library dependencies](https://github.com/GIScience/openrouteservice-examples#local-installation). You should either have an [openrouteservice API key](https://openrouteservice.org/dev/#/signup) or a local ORS environment to complete the analysis.\n",
    "\n",
    "The model concepts and processes are described in our documentation. The [Dataset-interpretability](https://github.com/urbanbigdatacentre/ideamaps-models/blob/a4084fb650424ac575941cdacb71421aa882bae4/models/emergency-maternal-care/kano/dataset-interpretability.md) file describes the rationale behind this model."
   ]
  },
  {
   "cell_type": "markdown",
   "metadata": {},
   "source": [
    "## Workflow:\n",
    "The notebook is divided into the following sections:\n",
    "\n",
    "1. Initial Setup\n",
    "2. Data Preparation\n",
    "3. Travel time estimates\n",
    "4. Two-step floating catchment area (2SFCA) analysis\n",
    "5. Results"
   ]
  },
  {
   "cell_type": "markdown",
   "metadata": {},
   "source": [
    "## 1. Initial Setup"
   ]
  },
  {
   "cell_type": "markdown",
   "metadata": {
    "magic_args": "[markdown]"
   },
   "source": [
    "## Setting up the virtual environment\n",
    "\n",
    "```bash\n",
    "# Create a new virtual environment\n",
    "# It is recommended to create this virtual environment in the scripts folder\n",
    "python -m venv .venv\n",
    "\n",
    "# Activate the virtual environment\n",
    "source .venv/bin/activate\n",
    "pip install -r requirements.txt\n",
    "```\n",
    "\n",
    "## To run your notebook in VS Code\n",
    "\n",
    "```bash\n",
    "pip install -U ipykernel\n",
    "python -m ipykernel install --user --name=.venv\n",
    "```"
   ]
  },
  {
   "cell_type": "code",
   "execution_count": 1,
   "metadata": {},
   "outputs": [],
   "source": [
    "import os\n",
    "from IPython.display import display\n",
    "import requests\n",
    "\n",
    "import folium\n",
    "from folium.plugins import MarkerCluster\n",
    "import openrouteservice\n",
    "import time\n",
    "\n",
    "import pandas as pd\n",
    "import numpy as np\n",
    "import fiona as fn\n",
    "import geopandas as gpd\n",
    "from shapely.geometry import shape, mapping\n",
    "from shapely.geometry import Point\n",
    "from shapely.geometry import box\n",
    "from scipy.spatial import cKDTree\n",
    "from tqdm import tqdm\n",
    "\n",
    "import rasterio\n",
    "from rasterio.transform import xy\n",
    "from rasterio.mask import mask\n",
    "import rasterstats as rs\n",
    "import math\n",
    "\n",
    "from pathlib import Path\n",
    "from shapely.geometry import Polygon"
   ]
  },
  {
   "cell_type": "markdown",
   "metadata": {
    "magic_args": "[markdown]"
   },
   "source": [
    "## Preprocessing\n",
    "In this study, users first requested an ORS Matrix API key from the [OpenRouteService](https://openrouteservice.org/) platform and subsequently interacted with the OpenRouteService API through the instantiation of the OpenRouteService client. This is the OpenRouteService [API documentation](https://openrouteservice.org/dev/#/api-docs/introduction) for ORS Core-Version 9.0.0. \n",
    "\n",
    "Generate a [API Key](https://openrouteservice.org/dev/#/home?tab=1) (Token) it is necessary to sign up at the OpenRouteService dashboard by using your E-mail address or sign up with your GitHub. After logging in, go to the Dashboard by clicking on your profile icon and navigate to the API Keys section. Click \"Create API Key\" to generate a free key and then choose a service plan (the free plan has limited requests per day). Copy the API Key and store it securely. \n",
    "\n",
    "OpenRouteService primarily uses API keys for authentication. However, if a token is required for certain endpoints, you can send a request with your API key in the Authorization header. This process facilitated various geospatial analysis functions, including isochrone generation.\n"
   ]
  },
  {
   "cell_type": "markdown",
   "metadata": {
    "magic_args": "[markdown]"
   },
   "source": [
    "### Option 1: Using an ORS API Key\n",
    "Make sure you have a .env file in the root directory with the following content:\n",
    "```bash\n",
    "    OPENROUTESERVICE_API_KEY='your_api_key'\n",
    "```"
   ]
  },
  {
   "cell_type": "code",
   "execution_count": null,
   "metadata": {},
   "outputs": [],
   "source": [
    "# %%\n",
    "# Read the api key from the .env file\n",
    "from dotenv import load_dotenv\n",
    "%load_ext dotenv\n",
    "%dotenv\n",
    "api_key = os.getenv('OPENROUTESERVICE_API_KEY')\n",
    "client = openrouteservice.Client(key=api_key)"
   ]
  },
  {
   "cell_type": "markdown",
   "metadata": {
    "magic_args": "[markdown]"
   },
   "source": [
    "### Option 2: Using a local ORS service\n",
    "Make sure you have set a local service that runs the OSM-based ORS API. \n",
    "```r\n",
    "    # Insert R code from the local ORS service\n",
    "```"
   ]
  },
  {
   "cell_type": "markdown",
   "metadata": {
    "magic_args": "[markdown]"
   },
   "source": [
    "For this study different kind of data were used. The dataset on healthcare facilities is sourced from a research ([Macharia, P.M. et al., 2023](https://doi.org/10.1038/s41597-023-02651-9)) which provides A geospatial database of close-to-reality travel times to obstetric emergency care in 15 Nigerian conurbations. The dataset were filtered by state name to isolate facilities in Kano and converted CSV file to shapefile based on coordinates using [QGIS](https://qgis.org/). \n",
    "\n",
    "The Level 2 administrative boundary data is sourced from [Humanitarian Data Exchange](https://data.humdata.org/) were used to correlate the isochrones and healthcare facility distribution with specific administrative regions. The data were filtered based on the administrative region name (lganame) to focus the analysis on Kano.\n",
    "\n",
    "Despite being official, administrative boundaries may not reflect the actual patterns of human settlement or economic activity. Therefore, the team used the Functional Urban Area (FUA) as a complementary definition of the study areas. The FUA is defined by [the Joint Research Centre of the European Commission](https://commission.europa.eu/about/departments-and-executive-agencies/joint-research-centre_en) as the actual urban sprawl and human activities, encompassing the core city and economically or socially integrated surrounding regions. The FUA was obtained from [the Global Human Settlement Layer (GHSL) ](https://human-settlement.emergency.copernicus.eu/)dataset, which provides spatial data for functional urban areas worldwide. \n",
    "\n",
    "* [Datasets of health facilities](https://doi.org/10.6084/m9.figshare.22689667.v2) (15/07/2023)\n",
    "* [Shapefile of district boundaries](https://data.humdata.org/dataset/nigeria-admin-level-2) - Admin Level 2 (data from Humanitarian Data Exchange, 25/11/2015)\n",
    "* [Functional Urban Areas](https://human-settlement.emergency.copernicus.eu/download.php?ds=FUA) - data from Global Human Settlement Layer(2015)"
   ]
  },
  {
   "cell_type": "markdown",
   "metadata": {
    "magic_args": "[markdown]"
   },
   "source": [
    "### Option 1: Kano\n",
    "If you want to process data for the city of Kano, use the following code to filter the dataset. \n"
   ]
  },
  {
   "cell_type": "code",
   "execution_count": 7,
   "metadata": {},
   "outputs": [],
   "source": [
    "# Set paths to access Kano data\n",
    "# Define directories\n",
    "data_inputs = '../scripts/Kano/data-inputs/'\n",
    "data_temp = '../scripts/Kano/data-temp/'\n",
    "model_outputs = '../kano/'"
   ]
  },
  {
   "cell_type": "markdown",
   "metadata": {},
   "source": [
    "### Option 2: Lagos\n",
    "If you want to process data for the city of Kano, use the following code to filter the dataset. "
   ]
  },
  {
   "cell_type": "code",
   "execution_count": 2,
   "metadata": {},
   "outputs": [],
   "source": [
    "# Set paths to access Lagos data\n",
    "# Define directories\n",
    "data_inputs = '../scripts/Lagos/data-inputs/'\n",
    "data_temp = '../scripts/Lagos/data-temp/'\n",
    "model_outputs = '../Lagos/'"
   ]
  },
  {
   "cell_type": "markdown",
   "metadata": {
    "magic_args": "[markdown]"
   },
   "source": [
    "## Data Collection"
   ]
  },
  {
   "cell_type": "markdown",
   "metadata": {
    "magic_args": "[markdown]"
   },
   "source": [
    "### 1. Validated healthcare facilities for Kano\n",
    "note: to describe the process to validate healthcare facilities"
   ]
  },
  {
   "cell_type": "code",
   "execution_count": 3,
   "metadata": {},
   "outputs": [],
   "source": [
    "healthcare_facilities_validated = gpd.read_file(data_inputs + 'healthcare_facilities.geojson')"
   ]
  },
  {
   "cell_type": "code",
   "execution_count": 4,
   "metadata": {},
   "outputs": [
    {
     "data": {
      "text/html": [
       "<div>\n",
       "<style scoped>\n",
       "    .dataframe tbody tr th:only-of-type {\n",
       "        vertical-align: middle;\n",
       "    }\n",
       "\n",
       "    .dataframe tbody tr th {\n",
       "        vertical-align: top;\n",
       "    }\n",
       "\n",
       "    .dataframe thead th {\n",
       "        text-align: right;\n",
       "    }\n",
       "</style>\n",
       "<table border=\"1\" class=\"dataframe\">\n",
       "  <thead>\n",
       "    <tr style=\"text-align: right;\">\n",
       "      <th></th>\n",
       "      <th>orig_order</th>\n",
       "      <th>state</th>\n",
       "      <th>lga</th>\n",
       "      <th>ward</th>\n",
       "      <th>urban_conurb</th>\n",
       "      <th>uid</th>\n",
       "      <th>facility_code</th>\n",
       "      <th>ontime_code</th>\n",
       "      <th>facility_name</th>\n",
       "      <th>reg_number</th>\n",
       "      <th>...</th>\n",
       "      <th>latitude</th>\n",
       "      <th>longitude</th>\n",
       "      <th>operation_status</th>\n",
       "      <th>registration_status</th>\n",
       "      <th>license_status</th>\n",
       "      <th>created</th>\n",
       "      <th>last_updated</th>\n",
       "      <th>last_updated_ontime</th>\n",
       "      <th>hcf_id</th>\n",
       "      <th>geometry</th>\n",
       "    </tr>\n",
       "  </thead>\n",
       "  <tbody>\n",
       "    <tr>\n",
       "      <th>0</th>\n",
       "      <td>117</td>\n",
       "      <td>1</td>\n",
       "      <td>Agege</td>\n",
       "      <td>Dopemu</td>\n",
       "      <td>1</td>\n",
       "      <td>25250613.0</td>\n",
       "      <td>24/01/1/2/2/0001</td>\n",
       "      <td>100101001</td>\n",
       "      <td>Al-Imaan Hospital and Maternity Home</td>\n",
       "      <td>None</td>\n",
       "      <td>...</td>\n",
       "      <td>6.61300</td>\n",
       "      <td>3.31549</td>\n",
       "      <td>Operational</td>\n",
       "      <td>Unknown</td>\n",
       "      <td>Unknown</td>\n",
       "      <td>2018-01-01 01:01:01</td>\n",
       "      <td>2018-01-01 01:01:01</td>\n",
       "      <td>28/09/2022 09:00</td>\n",
       "      <td>1</td>\n",
       "      <td>POINT (3.31549 6.613)</td>\n",
       "    </tr>\n",
       "    <tr>\n",
       "      <th>1</th>\n",
       "      <td>400</td>\n",
       "      <td>1</td>\n",
       "      <td>Agege</td>\n",
       "      <td>Keke</td>\n",
       "      <td>1</td>\n",
       "      <td>58886840.0</td>\n",
       "      <td>24/01/1/2/2/0009</td>\n",
       "      <td>100101002</td>\n",
       "      <td>J.A Lashman Hospital</td>\n",
       "      <td>None</td>\n",
       "      <td>...</td>\n",
       "      <td>6.62262</td>\n",
       "      <td>3.33436</td>\n",
       "      <td>Operational</td>\n",
       "      <td>Registered</td>\n",
       "      <td>Licensed</td>\n",
       "      <td>2018-01-01 01:01:01</td>\n",
       "      <td>2020-02-28 10:09:17</td>\n",
       "      <td>28/09/2022 09:00</td>\n",
       "      <td>2</td>\n",
       "      <td>POINT (3.33436 6.62262)</td>\n",
       "    </tr>\n",
       "    <tr>\n",
       "      <th>2</th>\n",
       "      <td>399</td>\n",
       "      <td>1</td>\n",
       "      <td>Agege</td>\n",
       "      <td>Orile (Agege)</td>\n",
       "      <td>1</td>\n",
       "      <td>70566198.0</td>\n",
       "      <td>24/01/1/2/1/0001</td>\n",
       "      <td>100101003</td>\n",
       "      <td>Orile Agege General Hospital</td>\n",
       "      <td>None</td>\n",
       "      <td>...</td>\n",
       "      <td>6.63477</td>\n",
       "      <td>3.30360</td>\n",
       "      <td>Operational</td>\n",
       "      <td>Unknown</td>\n",
       "      <td>Unknown</td>\n",
       "      <td>2018-01-01 01:01:01</td>\n",
       "      <td>2018-01-01 01:01:01</td>\n",
       "      <td>28/09/2022 09:00</td>\n",
       "      <td>3</td>\n",
       "      <td>POINT (3.3036 6.63477)</td>\n",
       "    </tr>\n",
       "    <tr>\n",
       "      <th>3</th>\n",
       "      <td>118</td>\n",
       "      <td>1</td>\n",
       "      <td>Agege</td>\n",
       "      <td>Powerline</td>\n",
       "      <td>1</td>\n",
       "      <td>81930847.0</td>\n",
       "      <td>24/01/1/2/2/0016</td>\n",
       "      <td>100101004</td>\n",
       "      <td>Molayo Medical Centre</td>\n",
       "      <td>None</td>\n",
       "      <td>...</td>\n",
       "      <td>6.63309</td>\n",
       "      <td>3.31291</td>\n",
       "      <td>Operational</td>\n",
       "      <td>Registered</td>\n",
       "      <td>Licensed</td>\n",
       "      <td>2018-01-01 01:01:01</td>\n",
       "      <td>2020-03-04 10:30:39</td>\n",
       "      <td>28/09/2022 09:00</td>\n",
       "      <td>4</td>\n",
       "      <td>POINT (3.31291 6.63309)</td>\n",
       "    </tr>\n",
       "    <tr>\n",
       "      <th>4</th>\n",
       "      <td>83</td>\n",
       "      <td>1</td>\n",
       "      <td>Agege</td>\n",
       "      <td>Papa Ashafa</td>\n",
       "      <td>1</td>\n",
       "      <td>18545103.0</td>\n",
       "      <td>24/01/1/1/1/0068</td>\n",
       "      <td>100101005</td>\n",
       "      <td>Mucas Hospital</td>\n",
       "      <td>None</td>\n",
       "      <td>...</td>\n",
       "      <td>6.61240</td>\n",
       "      <td>3.30348</td>\n",
       "      <td>Operational</td>\n",
       "      <td>Registered</td>\n",
       "      <td>Licensed</td>\n",
       "      <td>2018-01-01 01:01:01</td>\n",
       "      <td>2020-03-04 11:16:07</td>\n",
       "      <td>28/09/2022 09:00</td>\n",
       "      <td>5</td>\n",
       "      <td>POINT (3.30348 6.6124)</td>\n",
       "    </tr>\n",
       "    <tr>\n",
       "      <th>...</th>\n",
       "      <td>...</td>\n",
       "      <td>...</td>\n",
       "      <td>...</td>\n",
       "      <td>...</td>\n",
       "      <td>...</td>\n",
       "      <td>...</td>\n",
       "      <td>...</td>\n",
       "      <td>...</td>\n",
       "      <td>...</td>\n",
       "      <td>...</td>\n",
       "      <td>...</td>\n",
       "      <td>...</td>\n",
       "      <td>...</td>\n",
       "      <td>...</td>\n",
       "      <td>...</td>\n",
       "      <td>...</td>\n",
       "      <td>...</td>\n",
       "      <td>...</td>\n",
       "      <td>...</td>\n",
       "      <td>...</td>\n",
       "      <td>...</td>\n",
       "    </tr>\n",
       "    <tr>\n",
       "      <th>786</th>\n",
       "      <td>2047</td>\n",
       "      <td>1</td>\n",
       "      <td>Surulere</td>\n",
       "      <td>Nuru Oniwo</td>\n",
       "      <td>1</td>\n",
       "      <td>56048382.0</td>\n",
       "      <td>24/20/1/1/1/0099</td>\n",
       "      <td>100120069</td>\n",
       "      <td>Fajip Hospital (Annex)</td>\n",
       "      <td>None</td>\n",
       "      <td>...</td>\n",
       "      <td>6.49779</td>\n",
       "      <td>3.34456</td>\n",
       "      <td>Operational</td>\n",
       "      <td>Registered</td>\n",
       "      <td>Licensed</td>\n",
       "      <td>2018-01-01 01:01:01</td>\n",
       "      <td>2020-02-25 11:24:32</td>\n",
       "      <td>28/09/2022 09:00</td>\n",
       "      <td>787</td>\n",
       "      <td>POINT (3.34456 6.49779)</td>\n",
       "    </tr>\n",
       "    <tr>\n",
       "      <th>787</th>\n",
       "      <td>2048</td>\n",
       "      <td>1</td>\n",
       "      <td>Surulere</td>\n",
       "      <td>Muniru Baruwa</td>\n",
       "      <td>1</td>\n",
       "      <td>51776203.0</td>\n",
       "      <td>24/08/1/2/2/0051</td>\n",
       "      <td>100120070</td>\n",
       "      <td>St Maria Hospital</td>\n",
       "      <td>None</td>\n",
       "      <td>...</td>\n",
       "      <td>6.54848</td>\n",
       "      <td>3.23181</td>\n",
       "      <td>Operational</td>\n",
       "      <td>Unknown</td>\n",
       "      <td>Unknown</td>\n",
       "      <td>2018-01-01 01:01:01</td>\n",
       "      <td>2018-01-01 01:01:01</td>\n",
       "      <td>28/09/2022 09:00</td>\n",
       "      <td>788</td>\n",
       "      <td>POINT (3.23181 6.54848)</td>\n",
       "    </tr>\n",
       "    <tr>\n",
       "      <th>788</th>\n",
       "      <td>2049</td>\n",
       "      <td>1</td>\n",
       "      <td>Surulere</td>\n",
       "      <td>Airways</td>\n",
       "      <td>1</td>\n",
       "      <td>52229738.0</td>\n",
       "      <td>24/20/1/2/2/0068</td>\n",
       "      <td>100120071</td>\n",
       "      <td>Peace Way Hospital and Maternity</td>\n",
       "      <td>None</td>\n",
       "      <td>...</td>\n",
       "      <td>6.55846</td>\n",
       "      <td>3.24249</td>\n",
       "      <td>Operational</td>\n",
       "      <td>Unknown</td>\n",
       "      <td>Unknown</td>\n",
       "      <td>2018-01-01 01:01:01</td>\n",
       "      <td>2018-01-01 01:01:01</td>\n",
       "      <td>28/09/2022 09:00</td>\n",
       "      <td>789</td>\n",
       "      <td>POINT (3.24249 6.55846)</td>\n",
       "    </tr>\n",
       "    <tr>\n",
       "      <th>789</th>\n",
       "      <td>762</td>\n",
       "      <td>4</td>\n",
       "      <td>Egor</td>\n",
       "      <td>Unknown</td>\n",
       "      <td>4</td>\n",
       "      <td>NaN</td>\n",
       "      <td>None</td>\n",
       "      <td>100401001</td>\n",
       "      <td>Total Health Trust Medical Centre</td>\n",
       "      <td>None</td>\n",
       "      <td>...</td>\n",
       "      <td>6.54187</td>\n",
       "      <td>3.36499</td>\n",
       "      <td>Operational</td>\n",
       "      <td>None</td>\n",
       "      <td>None</td>\n",
       "      <td>NaT</td>\n",
       "      <td>NaT</td>\n",
       "      <td>28/09/2022 09:00</td>\n",
       "      <td>790</td>\n",
       "      <td>POINT (3.36499 6.54187)</td>\n",
       "    </tr>\n",
       "    <tr>\n",
       "      <th>790</th>\n",
       "      <td>794</td>\n",
       "      <td>4</td>\n",
       "      <td>Oredo</td>\n",
       "      <td>Unknown</td>\n",
       "      <td>4</td>\n",
       "      <td>NaN</td>\n",
       "      <td>None</td>\n",
       "      <td>100403001</td>\n",
       "      <td>Edo Specialist Hospital</td>\n",
       "      <td>None</td>\n",
       "      <td>...</td>\n",
       "      <td>6.54187</td>\n",
       "      <td>3.36499</td>\n",
       "      <td>Operational</td>\n",
       "      <td>None</td>\n",
       "      <td>None</td>\n",
       "      <td>NaT</td>\n",
       "      <td>NaT</td>\n",
       "      <td>28/09/2022 09:00</td>\n",
       "      <td>791</td>\n",
       "      <td>POINT (3.36499 6.54187)</td>\n",
       "    </tr>\n",
       "  </tbody>\n",
       "</table>\n",
       "<p>791 rows × 34 columns</p>\n",
       "</div>"
      ],
      "text/plain": [
       "     orig_order  state       lga           ward  urban_conurb         uid  \\\n",
       "0           117      1     Agege         Dopemu             1  25250613.0   \n",
       "1           400      1     Agege           Keke             1  58886840.0   \n",
       "2           399      1     Agege  Orile (Agege)             1  70566198.0   \n",
       "3           118      1     Agege      Powerline             1  81930847.0   \n",
       "4            83      1     Agege    Papa Ashafa             1  18545103.0   \n",
       "..          ...    ...       ...            ...           ...         ...   \n",
       "786        2047      1  Surulere     Nuru Oniwo             1  56048382.0   \n",
       "787        2048      1  Surulere  Muniru Baruwa             1  51776203.0   \n",
       "788        2049      1  Surulere        Airways             1  52229738.0   \n",
       "789         762      4      Egor        Unknown             4         NaN   \n",
       "790         794      4     Oredo        Unknown             4         NaN   \n",
       "\n",
       "        facility_code  ontime_code                         facility_name  \\\n",
       "0    24/01/1/2/2/0001    100101001  Al-Imaan Hospital and Maternity Home   \n",
       "1    24/01/1/2/2/0009    100101002                  J.A Lashman Hospital   \n",
       "2    24/01/1/2/1/0001    100101003          Orile Agege General Hospital   \n",
       "3    24/01/1/2/2/0016    100101004                 Molayo Medical Centre   \n",
       "4    24/01/1/1/1/0068    100101005                        Mucas Hospital   \n",
       "..                ...          ...                                   ...   \n",
       "786  24/20/1/1/1/0099    100120069                Fajip Hospital (Annex)   \n",
       "787  24/08/1/2/2/0051    100120070                     St Maria Hospital   \n",
       "788  24/20/1/2/2/0068    100120071      Peace Way Hospital and Maternity   \n",
       "789              None    100401001     Total Health Trust Medical Centre   \n",
       "790              None    100403001               Edo Specialist Hospital   \n",
       "\n",
       "    reg_number  ...  latitude longitude  operation_status  \\\n",
       "0         None  ...   6.61300   3.31549       Operational   \n",
       "1         None  ...   6.62262   3.33436       Operational   \n",
       "2         None  ...   6.63477   3.30360       Operational   \n",
       "3         None  ...   6.63309   3.31291       Operational   \n",
       "4         None  ...   6.61240   3.30348       Operational   \n",
       "..         ...  ...       ...       ...               ...   \n",
       "786       None  ...   6.49779   3.34456       Operational   \n",
       "787       None  ...   6.54848   3.23181       Operational   \n",
       "788       None  ...   6.55846   3.24249       Operational   \n",
       "789       None  ...   6.54187   3.36499       Operational   \n",
       "790       None  ...   6.54187   3.36499       Operational   \n",
       "\n",
       "     registration_status  license_status             created  \\\n",
       "0                Unknown         Unknown 2018-01-01 01:01:01   \n",
       "1             Registered        Licensed 2018-01-01 01:01:01   \n",
       "2                Unknown         Unknown 2018-01-01 01:01:01   \n",
       "3             Registered        Licensed 2018-01-01 01:01:01   \n",
       "4             Registered        Licensed 2018-01-01 01:01:01   \n",
       "..                   ...             ...                 ...   \n",
       "786           Registered        Licensed 2018-01-01 01:01:01   \n",
       "787              Unknown         Unknown 2018-01-01 01:01:01   \n",
       "788              Unknown         Unknown 2018-01-01 01:01:01   \n",
       "789                 None            None                 NaT   \n",
       "790                 None            None                 NaT   \n",
       "\n",
       "           last_updated  last_updated_ontime  hcf_id                 geometry  \n",
       "0   2018-01-01 01:01:01     28/09/2022 09:00       1    POINT (3.31549 6.613)  \n",
       "1   2020-02-28 10:09:17     28/09/2022 09:00       2  POINT (3.33436 6.62262)  \n",
       "2   2018-01-01 01:01:01     28/09/2022 09:00       3   POINT (3.3036 6.63477)  \n",
       "3   2020-03-04 10:30:39     28/09/2022 09:00       4  POINT (3.31291 6.63309)  \n",
       "4   2020-03-04 11:16:07     28/09/2022 09:00       5   POINT (3.30348 6.6124)  \n",
       "..                  ...                  ...     ...                      ...  \n",
       "786 2020-02-25 11:24:32     28/09/2022 09:00     787  POINT (3.34456 6.49779)  \n",
       "787 2018-01-01 01:01:01     28/09/2022 09:00     788  POINT (3.23181 6.54848)  \n",
       "788 2018-01-01 01:01:01     28/09/2022 09:00     789  POINT (3.24249 6.55846)  \n",
       "789                 NaT     28/09/2022 09:00     790  POINT (3.36499 6.54187)  \n",
       "790                 NaT     28/09/2022 09:00     791  POINT (3.36499 6.54187)  \n",
       "\n",
       "[791 rows x 34 columns]"
      ]
     },
     "execution_count": 4,
     "metadata": {},
     "output_type": "execute_result"
    }
   ],
   "source": [
    "healthcare_facilities_validated"
   ]
  },
  {
   "cell_type": "markdown",
   "metadata": {},
   "source": [
    "### 2. Healthcare facilities in Lagos\n",
    "note: Due to the absence of local expert validation in Lagos, the classification for validation is determine based on the ownership provided in the [datasets of health facilities](https://doi.org/10.6084/m9.figshare.22689667.v2)."
   ]
  },
  {
   "cell_type": "code",
   "execution_count": 5,
   "metadata": {},
   "outputs": [],
   "source": [
    "healthcare_facilities_validated['Validation'] = healthcare_facilities_validated['owner'].map({\n",
    "    1: 'Public Comprehensive EmOC',\n",
    "    2: 'Private Comprehensive EmOC'\n",
    "})"
   ]
  },
  {
   "cell_type": "code",
   "execution_count": 6,
   "metadata": {},
   "outputs": [
    {
     "data": {
      "text/html": [
       "<div>\n",
       "<style scoped>\n",
       "    .dataframe tbody tr th:only-of-type {\n",
       "        vertical-align: middle;\n",
       "    }\n",
       "\n",
       "    .dataframe tbody tr th {\n",
       "        vertical-align: top;\n",
       "    }\n",
       "\n",
       "    .dataframe thead th {\n",
       "        text-align: right;\n",
       "    }\n",
       "</style>\n",
       "<table border=\"1\" class=\"dataframe\">\n",
       "  <thead>\n",
       "    <tr style=\"text-align: right;\">\n",
       "      <th></th>\n",
       "      <th>orig_order</th>\n",
       "      <th>state</th>\n",
       "      <th>lga</th>\n",
       "      <th>ward</th>\n",
       "      <th>urban_conurb</th>\n",
       "      <th>uid</th>\n",
       "      <th>facility_code</th>\n",
       "      <th>ontime_code</th>\n",
       "      <th>facility_name</th>\n",
       "      <th>reg_number</th>\n",
       "      <th>...</th>\n",
       "      <th>longitude</th>\n",
       "      <th>operation_status</th>\n",
       "      <th>registration_status</th>\n",
       "      <th>license_status</th>\n",
       "      <th>created</th>\n",
       "      <th>last_updated</th>\n",
       "      <th>last_updated_ontime</th>\n",
       "      <th>hcf_id</th>\n",
       "      <th>geometry</th>\n",
       "      <th>Validation</th>\n",
       "    </tr>\n",
       "  </thead>\n",
       "  <tbody>\n",
       "    <tr>\n",
       "      <th>0</th>\n",
       "      <td>117</td>\n",
       "      <td>1</td>\n",
       "      <td>Agege</td>\n",
       "      <td>Dopemu</td>\n",
       "      <td>1</td>\n",
       "      <td>25250613.0</td>\n",
       "      <td>24/01/1/2/2/0001</td>\n",
       "      <td>100101001</td>\n",
       "      <td>Al-Imaan Hospital and Maternity Home</td>\n",
       "      <td>None</td>\n",
       "      <td>...</td>\n",
       "      <td>3.31549</td>\n",
       "      <td>Operational</td>\n",
       "      <td>Unknown</td>\n",
       "      <td>Unknown</td>\n",
       "      <td>2018-01-01 01:01:01</td>\n",
       "      <td>2018-01-01 01:01:01</td>\n",
       "      <td>28/09/2022 09:00</td>\n",
       "      <td>1</td>\n",
       "      <td>POINT (3.31549 6.613)</td>\n",
       "      <td>Private Comprehensive EmOC</td>\n",
       "    </tr>\n",
       "    <tr>\n",
       "      <th>1</th>\n",
       "      <td>400</td>\n",
       "      <td>1</td>\n",
       "      <td>Agege</td>\n",
       "      <td>Keke</td>\n",
       "      <td>1</td>\n",
       "      <td>58886840.0</td>\n",
       "      <td>24/01/1/2/2/0009</td>\n",
       "      <td>100101002</td>\n",
       "      <td>J.A Lashman Hospital</td>\n",
       "      <td>None</td>\n",
       "      <td>...</td>\n",
       "      <td>3.33436</td>\n",
       "      <td>Operational</td>\n",
       "      <td>Registered</td>\n",
       "      <td>Licensed</td>\n",
       "      <td>2018-01-01 01:01:01</td>\n",
       "      <td>2020-02-28 10:09:17</td>\n",
       "      <td>28/09/2022 09:00</td>\n",
       "      <td>2</td>\n",
       "      <td>POINT (3.33436 6.62262)</td>\n",
       "      <td>Private Comprehensive EmOC</td>\n",
       "    </tr>\n",
       "    <tr>\n",
       "      <th>2</th>\n",
       "      <td>399</td>\n",
       "      <td>1</td>\n",
       "      <td>Agege</td>\n",
       "      <td>Orile (Agege)</td>\n",
       "      <td>1</td>\n",
       "      <td>70566198.0</td>\n",
       "      <td>24/01/1/2/1/0001</td>\n",
       "      <td>100101003</td>\n",
       "      <td>Orile Agege General Hospital</td>\n",
       "      <td>None</td>\n",
       "      <td>...</td>\n",
       "      <td>3.30360</td>\n",
       "      <td>Operational</td>\n",
       "      <td>Unknown</td>\n",
       "      <td>Unknown</td>\n",
       "      <td>2018-01-01 01:01:01</td>\n",
       "      <td>2018-01-01 01:01:01</td>\n",
       "      <td>28/09/2022 09:00</td>\n",
       "      <td>3</td>\n",
       "      <td>POINT (3.3036 6.63477)</td>\n",
       "      <td>Public Comprehensive EmOC</td>\n",
       "    </tr>\n",
       "    <tr>\n",
       "      <th>3</th>\n",
       "      <td>118</td>\n",
       "      <td>1</td>\n",
       "      <td>Agege</td>\n",
       "      <td>Powerline</td>\n",
       "      <td>1</td>\n",
       "      <td>81930847.0</td>\n",
       "      <td>24/01/1/2/2/0016</td>\n",
       "      <td>100101004</td>\n",
       "      <td>Molayo Medical Centre</td>\n",
       "      <td>None</td>\n",
       "      <td>...</td>\n",
       "      <td>3.31291</td>\n",
       "      <td>Operational</td>\n",
       "      <td>Registered</td>\n",
       "      <td>Licensed</td>\n",
       "      <td>2018-01-01 01:01:01</td>\n",
       "      <td>2020-03-04 10:30:39</td>\n",
       "      <td>28/09/2022 09:00</td>\n",
       "      <td>4</td>\n",
       "      <td>POINT (3.31291 6.63309)</td>\n",
       "      <td>Private Comprehensive EmOC</td>\n",
       "    </tr>\n",
       "    <tr>\n",
       "      <th>4</th>\n",
       "      <td>83</td>\n",
       "      <td>1</td>\n",
       "      <td>Agege</td>\n",
       "      <td>Papa Ashafa</td>\n",
       "      <td>1</td>\n",
       "      <td>18545103.0</td>\n",
       "      <td>24/01/1/1/1/0068</td>\n",
       "      <td>100101005</td>\n",
       "      <td>Mucas Hospital</td>\n",
       "      <td>None</td>\n",
       "      <td>...</td>\n",
       "      <td>3.30348</td>\n",
       "      <td>Operational</td>\n",
       "      <td>Registered</td>\n",
       "      <td>Licensed</td>\n",
       "      <td>2018-01-01 01:01:01</td>\n",
       "      <td>2020-03-04 11:16:07</td>\n",
       "      <td>28/09/2022 09:00</td>\n",
       "      <td>5</td>\n",
       "      <td>POINT (3.30348 6.6124)</td>\n",
       "      <td>Private Comprehensive EmOC</td>\n",
       "    </tr>\n",
       "    <tr>\n",
       "      <th>...</th>\n",
       "      <td>...</td>\n",
       "      <td>...</td>\n",
       "      <td>...</td>\n",
       "      <td>...</td>\n",
       "      <td>...</td>\n",
       "      <td>...</td>\n",
       "      <td>...</td>\n",
       "      <td>...</td>\n",
       "      <td>...</td>\n",
       "      <td>...</td>\n",
       "      <td>...</td>\n",
       "      <td>...</td>\n",
       "      <td>...</td>\n",
       "      <td>...</td>\n",
       "      <td>...</td>\n",
       "      <td>...</td>\n",
       "      <td>...</td>\n",
       "      <td>...</td>\n",
       "      <td>...</td>\n",
       "      <td>...</td>\n",
       "      <td>...</td>\n",
       "    </tr>\n",
       "    <tr>\n",
       "      <th>786</th>\n",
       "      <td>2047</td>\n",
       "      <td>1</td>\n",
       "      <td>Surulere</td>\n",
       "      <td>Nuru Oniwo</td>\n",
       "      <td>1</td>\n",
       "      <td>56048382.0</td>\n",
       "      <td>24/20/1/1/1/0099</td>\n",
       "      <td>100120069</td>\n",
       "      <td>Fajip Hospital (Annex)</td>\n",
       "      <td>None</td>\n",
       "      <td>...</td>\n",
       "      <td>3.34456</td>\n",
       "      <td>Operational</td>\n",
       "      <td>Registered</td>\n",
       "      <td>Licensed</td>\n",
       "      <td>2018-01-01 01:01:01</td>\n",
       "      <td>2020-02-25 11:24:32</td>\n",
       "      <td>28/09/2022 09:00</td>\n",
       "      <td>787</td>\n",
       "      <td>POINT (3.34456 6.49779)</td>\n",
       "      <td>Private Comprehensive EmOC</td>\n",
       "    </tr>\n",
       "    <tr>\n",
       "      <th>787</th>\n",
       "      <td>2048</td>\n",
       "      <td>1</td>\n",
       "      <td>Surulere</td>\n",
       "      <td>Muniru Baruwa</td>\n",
       "      <td>1</td>\n",
       "      <td>51776203.0</td>\n",
       "      <td>24/08/1/2/2/0051</td>\n",
       "      <td>100120070</td>\n",
       "      <td>St Maria Hospital</td>\n",
       "      <td>None</td>\n",
       "      <td>...</td>\n",
       "      <td>3.23181</td>\n",
       "      <td>Operational</td>\n",
       "      <td>Unknown</td>\n",
       "      <td>Unknown</td>\n",
       "      <td>2018-01-01 01:01:01</td>\n",
       "      <td>2018-01-01 01:01:01</td>\n",
       "      <td>28/09/2022 09:00</td>\n",
       "      <td>788</td>\n",
       "      <td>POINT (3.23181 6.54848)</td>\n",
       "      <td>Private Comprehensive EmOC</td>\n",
       "    </tr>\n",
       "    <tr>\n",
       "      <th>788</th>\n",
       "      <td>2049</td>\n",
       "      <td>1</td>\n",
       "      <td>Surulere</td>\n",
       "      <td>Airways</td>\n",
       "      <td>1</td>\n",
       "      <td>52229738.0</td>\n",
       "      <td>24/20/1/2/2/0068</td>\n",
       "      <td>100120071</td>\n",
       "      <td>Peace Way Hospital and Maternity</td>\n",
       "      <td>None</td>\n",
       "      <td>...</td>\n",
       "      <td>3.24249</td>\n",
       "      <td>Operational</td>\n",
       "      <td>Unknown</td>\n",
       "      <td>Unknown</td>\n",
       "      <td>2018-01-01 01:01:01</td>\n",
       "      <td>2018-01-01 01:01:01</td>\n",
       "      <td>28/09/2022 09:00</td>\n",
       "      <td>789</td>\n",
       "      <td>POINT (3.24249 6.55846)</td>\n",
       "      <td>Private Comprehensive EmOC</td>\n",
       "    </tr>\n",
       "    <tr>\n",
       "      <th>789</th>\n",
       "      <td>762</td>\n",
       "      <td>4</td>\n",
       "      <td>Egor</td>\n",
       "      <td>Unknown</td>\n",
       "      <td>4</td>\n",
       "      <td>NaN</td>\n",
       "      <td>None</td>\n",
       "      <td>100401001</td>\n",
       "      <td>Total Health Trust Medical Centre</td>\n",
       "      <td>None</td>\n",
       "      <td>...</td>\n",
       "      <td>3.36499</td>\n",
       "      <td>Operational</td>\n",
       "      <td>None</td>\n",
       "      <td>None</td>\n",
       "      <td>NaT</td>\n",
       "      <td>NaT</td>\n",
       "      <td>28/09/2022 09:00</td>\n",
       "      <td>790</td>\n",
       "      <td>POINT (3.36499 6.54187)</td>\n",
       "      <td>Private Comprehensive EmOC</td>\n",
       "    </tr>\n",
       "    <tr>\n",
       "      <th>790</th>\n",
       "      <td>794</td>\n",
       "      <td>4</td>\n",
       "      <td>Oredo</td>\n",
       "      <td>Unknown</td>\n",
       "      <td>4</td>\n",
       "      <td>NaN</td>\n",
       "      <td>None</td>\n",
       "      <td>100403001</td>\n",
       "      <td>Edo Specialist Hospital</td>\n",
       "      <td>None</td>\n",
       "      <td>...</td>\n",
       "      <td>3.36499</td>\n",
       "      <td>Operational</td>\n",
       "      <td>None</td>\n",
       "      <td>None</td>\n",
       "      <td>NaT</td>\n",
       "      <td>NaT</td>\n",
       "      <td>28/09/2022 09:00</td>\n",
       "      <td>791</td>\n",
       "      <td>POINT (3.36499 6.54187)</td>\n",
       "      <td>Public Comprehensive EmOC</td>\n",
       "    </tr>\n",
       "  </tbody>\n",
       "</table>\n",
       "<p>791 rows × 35 columns</p>\n",
       "</div>"
      ],
      "text/plain": [
       "     orig_order  state       lga           ward  urban_conurb         uid  \\\n",
       "0           117      1     Agege         Dopemu             1  25250613.0   \n",
       "1           400      1     Agege           Keke             1  58886840.0   \n",
       "2           399      1     Agege  Orile (Agege)             1  70566198.0   \n",
       "3           118      1     Agege      Powerline             1  81930847.0   \n",
       "4            83      1     Agege    Papa Ashafa             1  18545103.0   \n",
       "..          ...    ...       ...            ...           ...         ...   \n",
       "786        2047      1  Surulere     Nuru Oniwo             1  56048382.0   \n",
       "787        2048      1  Surulere  Muniru Baruwa             1  51776203.0   \n",
       "788        2049      1  Surulere        Airways             1  52229738.0   \n",
       "789         762      4      Egor        Unknown             4         NaN   \n",
       "790         794      4     Oredo        Unknown             4         NaN   \n",
       "\n",
       "        facility_code  ontime_code                         facility_name  \\\n",
       "0    24/01/1/2/2/0001    100101001  Al-Imaan Hospital and Maternity Home   \n",
       "1    24/01/1/2/2/0009    100101002                  J.A Lashman Hospital   \n",
       "2    24/01/1/2/1/0001    100101003          Orile Agege General Hospital   \n",
       "3    24/01/1/2/2/0016    100101004                 Molayo Medical Centre   \n",
       "4    24/01/1/1/1/0068    100101005                        Mucas Hospital   \n",
       "..                ...          ...                                   ...   \n",
       "786  24/20/1/1/1/0099    100120069                Fajip Hospital (Annex)   \n",
       "787  24/08/1/2/2/0051    100120070                     St Maria Hospital   \n",
       "788  24/20/1/2/2/0068    100120071      Peace Way Hospital and Maternity   \n",
       "789              None    100401001     Total Health Trust Medical Centre   \n",
       "790              None    100403001               Edo Specialist Hospital   \n",
       "\n",
       "    reg_number  ...  longitude operation_status  registration_status  \\\n",
       "0         None  ...    3.31549      Operational              Unknown   \n",
       "1         None  ...    3.33436      Operational           Registered   \n",
       "2         None  ...    3.30360      Operational              Unknown   \n",
       "3         None  ...    3.31291      Operational           Registered   \n",
       "4         None  ...    3.30348      Operational           Registered   \n",
       "..         ...  ...        ...              ...                  ...   \n",
       "786       None  ...    3.34456      Operational           Registered   \n",
       "787       None  ...    3.23181      Operational              Unknown   \n",
       "788       None  ...    3.24249      Operational              Unknown   \n",
       "789       None  ...    3.36499      Operational                 None   \n",
       "790       None  ...    3.36499      Operational                 None   \n",
       "\n",
       "     license_status             created        last_updated  \\\n",
       "0           Unknown 2018-01-01 01:01:01 2018-01-01 01:01:01   \n",
       "1          Licensed 2018-01-01 01:01:01 2020-02-28 10:09:17   \n",
       "2           Unknown 2018-01-01 01:01:01 2018-01-01 01:01:01   \n",
       "3          Licensed 2018-01-01 01:01:01 2020-03-04 10:30:39   \n",
       "4          Licensed 2018-01-01 01:01:01 2020-03-04 11:16:07   \n",
       "..              ...                 ...                 ...   \n",
       "786        Licensed 2018-01-01 01:01:01 2020-02-25 11:24:32   \n",
       "787         Unknown 2018-01-01 01:01:01 2018-01-01 01:01:01   \n",
       "788         Unknown 2018-01-01 01:01:01 2018-01-01 01:01:01   \n",
       "789            None                 NaT                 NaT   \n",
       "790            None                 NaT                 NaT   \n",
       "\n",
       "     last_updated_ontime  hcf_id                 geometry  \\\n",
       "0       28/09/2022 09:00       1    POINT (3.31549 6.613)   \n",
       "1       28/09/2022 09:00       2  POINT (3.33436 6.62262)   \n",
       "2       28/09/2022 09:00       3   POINT (3.3036 6.63477)   \n",
       "3       28/09/2022 09:00       4  POINT (3.31291 6.63309)   \n",
       "4       28/09/2022 09:00       5   POINT (3.30348 6.6124)   \n",
       "..                   ...     ...                      ...   \n",
       "786     28/09/2022 09:00     787  POINT (3.34456 6.49779)   \n",
       "787     28/09/2022 09:00     788  POINT (3.23181 6.54848)   \n",
       "788     28/09/2022 09:00     789  POINT (3.24249 6.55846)   \n",
       "789     28/09/2022 09:00     790  POINT (3.36499 6.54187)   \n",
       "790     28/09/2022 09:00     791  POINT (3.36499 6.54187)   \n",
       "\n",
       "                     Validation  \n",
       "0    Private Comprehensive EmOC  \n",
       "1    Private Comprehensive EmOC  \n",
       "2     Public Comprehensive EmOC  \n",
       "3    Private Comprehensive EmOC  \n",
       "4    Private Comprehensive EmOC  \n",
       "..                          ...  \n",
       "786  Private Comprehensive EmOC  \n",
       "787  Private Comprehensive EmOC  \n",
       "788  Private Comprehensive EmOC  \n",
       "789  Private Comprehensive EmOC  \n",
       "790   Public Comprehensive EmOC  \n",
       "\n",
       "[791 rows x 35 columns]"
      ]
     },
     "execution_count": 6,
     "metadata": {},
     "output_type": "execute_result"
    }
   ],
   "source": [
    "healthcare_facilities_validated"
   ]
  },
  {
   "cell_type": "markdown",
   "metadata": {
    "magic_args": "[markdown]"
   },
   "source": [
    "### Population Grid Data (1km resolution) from WorldPop\n",
    "note: explain the rational for female population between 15-49 years old"
   ]
  },
  {
   "cell_type": "code",
   "execution_count": 8,
   "metadata": {},
   "outputs": [],
   "source": [
    "study_area = gpd.read_file(data_inputs + '100mGrid.gpkg')\n",
    "raster_path = data_inputs + 'nga_f_15_49_2015_1km.tif'"
   ]
  },
  {
   "cell_type": "code",
   "execution_count": 9,
   "metadata": {},
   "outputs": [],
   "source": [
    "with rasterio.open(raster_path) as dataset:\n",
    "    geometries = [study_area.geometry.unary_union.__geo_interface__]\n",
    "    clipped_image, clipped_transform = mask(dataset, geometries, crop=True)\n",
    "    band1 = clipped_image[0] # Read the first band of the raster"
   ]
  },
  {
   "cell_type": "code",
   "execution_count": 11,
   "metadata": {},
   "outputs": [],
   "source": [
    "out_meta = dataset.meta.copy()\n",
    "out_meta.update({\n",
    "        \"height\": clipped_image.shape[1],\n",
    "        \"width\": clipped_image.shape[2],\n",
    "        \"transform\": clipped_transform\n",
    "    })"
   ]
  },
  {
   "cell_type": "code",
   "execution_count": 12,
   "metadata": {},
   "outputs": [],
   "source": [
    "with rasterio.open(data_inputs + 'Lagos_nga_f_15_49_2015_1km.tif', \"w\", **out_meta) as dest:\n",
    "    dest.write(clipped_image)"
   ]
  },
  {
   "cell_type": "markdown",
   "metadata": {},
   "source": [
    "## Adding population data at 1km grid to 100m grid"
   ]
  },
  {
   "cell_type": "code",
   "execution_count": 4,
   "metadata": {},
   "outputs": [],
   "source": [
    "# reading in geotiff file as numpy array\n",
    "def read_tif(file: Path):\n",
    "    if not file.exists():\n",
    "        raise FileNotFoundError(f'File {file} not found')\n",
    "\n",
    "    with rasterio.open(file) as dataset:\n",
    "        arr = dataset.read()  # (bands X height X width)\n",
    "        transform = dataset.transform\n",
    "        crs = dataset.crs\n",
    "\n",
    "    return arr.transpose((1, 2, 0)), transform, crs\n",
    "\n",
    "def raster2vector(arr, transform, crs) -> gpd.GeoDataFrame:\n",
    "    height, width, bands = arr.shape\n",
    "\n",
    "    # Generate pixel coordinates\n",
    "    geometries = []\n",
    "    pixel_values = []\n",
    "\n",
    "    for row in range(height):\n",
    "        for col in range(width):\n",
    "            x_min, y_max = transform * (col, row)  # Top-left corner\n",
    "            x_max, y_min = transform * (col + 1, row + 1)  # Bottom-right corner\n",
    "\n",
    "            pixel_value = arr[row, col].tolist()[0]  # Convert numpy array to list\n",
    "            polygon = Polygon([(x_min, y_max), (x_max, y_max), (x_max, y_min), (x_min, y_min)])\n",
    "\n",
    "            geometries.append(polygon)\n",
    "            pixel_values.append(pixel_value)\n",
    "\n",
    "    # Convert to DataFrame\n",
    "    gdf = gpd.GeoDataFrame({'pop_grid_pop': pixel_values, 'geometry': geometries}, crs=crs)\n",
    "\n",
    "    return gdf\n",
    "\n",
    "epsg = 'EPSG:32632'"
   ]
  },
  {
   "cell_type": "code",
   "execution_count": 5,
   "metadata": {},
   "outputs": [
    {
     "data": {
      "text/html": [
       "<div>\n",
       "<style scoped>\n",
       "    .dataframe tbody tr th:only-of-type {\n",
       "        vertical-align: middle;\n",
       "    }\n",
       "\n",
       "    .dataframe tbody tr th {\n",
       "        vertical-align: top;\n",
       "    }\n",
       "\n",
       "    .dataframe thead th {\n",
       "        text-align: right;\n",
       "    }\n",
       "</style>\n",
       "<table border=\"1\" class=\"dataframe\">\n",
       "  <thead>\n",
       "    <tr style=\"text-align: right;\">\n",
       "      <th></th>\n",
       "      <th>grid_id</th>\n",
       "      <th>geometry</th>\n",
       "    </tr>\n",
       "  </thead>\n",
       "  <tbody>\n",
       "    <tr>\n",
       "      <th>0</th>\n",
       "      <td>0</td>\n",
       "      <td>POLYGON ((-184077.797 713168.196, -183966.398 ...</td>\n",
       "    </tr>\n",
       "    <tr>\n",
       "      <th>1</th>\n",
       "      <td>1</td>\n",
       "      <td>POLYGON ((-184079.195 713078.067, -183967.795 ...</td>\n",
       "    </tr>\n",
       "    <tr>\n",
       "      <th>2</th>\n",
       "      <td>2</td>\n",
       "      <td>POLYGON ((-184080.593 712987.938, -183969.193 ...</td>\n",
       "    </tr>\n",
       "    <tr>\n",
       "      <th>3</th>\n",
       "      <td>3</td>\n",
       "      <td>POLYGON ((-184081.99 712897.809, -183970.59 71...</td>\n",
       "    </tr>\n",
       "    <tr>\n",
       "      <th>4</th>\n",
       "      <td>4</td>\n",
       "      <td>POLYGON ((-184083.388 712807.68, -183971.988 7...</td>\n",
       "    </tr>\n",
       "    <tr>\n",
       "      <th>...</th>\n",
       "      <td>...</td>\n",
       "      <td>...</td>\n",
       "    </tr>\n",
       "    <tr>\n",
       "      <th>325349</th>\n",
       "      <td>325349</td>\n",
       "      <td>POLYGON ((-74134.769 717795.942, -74023.561 71...</td>\n",
       "    </tr>\n",
       "    <tr>\n",
       "      <th>325350</th>\n",
       "      <td>325350</td>\n",
       "      <td>POLYGON ((-74136.108 717705.962, -74024.9 7177...</td>\n",
       "    </tr>\n",
       "    <tr>\n",
       "      <th>325351</th>\n",
       "      <td>325351</td>\n",
       "      <td>POLYGON ((-74137.447 717615.981, -74026.239 71...</td>\n",
       "    </tr>\n",
       "    <tr>\n",
       "      <th>325352</th>\n",
       "      <td>325352</td>\n",
       "      <td>POLYGON ((-74138.785 717526.001, -74027.577 71...</td>\n",
       "    </tr>\n",
       "    <tr>\n",
       "      <th>325353</th>\n",
       "      <td>325353</td>\n",
       "      <td>POLYGON ((-74140.124 717436.021, -74028.916 71...</td>\n",
       "    </tr>\n",
       "  </tbody>\n",
       "</table>\n",
       "<p>325354 rows × 2 columns</p>\n",
       "</div>"
      ],
      "text/plain": [
       "        grid_id                                           geometry\n",
       "0             0  POLYGON ((-184077.797 713168.196, -183966.398 ...\n",
       "1             1  POLYGON ((-184079.195 713078.067, -183967.795 ...\n",
       "2             2  POLYGON ((-184080.593 712987.938, -183969.193 ...\n",
       "3             3  POLYGON ((-184081.99 712897.809, -183970.59 71...\n",
       "4             4  POLYGON ((-184083.388 712807.68, -183971.988 7...\n",
       "...         ...                                                ...\n",
       "325349   325349  POLYGON ((-74134.769 717795.942, -74023.561 71...\n",
       "325350   325350  POLYGON ((-74136.108 717705.962, -74024.9 7177...\n",
       "325351   325351  POLYGON ((-74137.447 717615.981, -74026.239 71...\n",
       "325352   325352  POLYGON ((-74138.785 717526.001, -74027.577 71...\n",
       "325353   325353  POLYGON ((-74140.124 717436.021, -74028.916 71...\n",
       "\n",
       "[325354 rows x 2 columns]"
      ]
     },
     "execution_count": 5,
     "metadata": {},
     "output_type": "execute_result"
    }
   ],
   "source": [
    "# Preparing grid\n",
    "grid_file = data_inputs + '100mGrid.gpkg'\n",
    "grid = gpd.read_file(grid_file)\n",
    "grid = grid.to_crs(epsg)\n",
    "grid['grid_id'] = range(len(grid))\n",
    "grid = grid[['grid_id', 'geometry']].set_geometry('geometry')\n",
    "grid"
   ]
  },
  {
   "cell_type": "code",
   "execution_count": 6,
   "metadata": {},
   "outputs": [
    {
     "data": {
      "text/html": [
       "<div>\n",
       "<style scoped>\n",
       "    .dataframe tbody tr th:only-of-type {\n",
       "        vertical-align: middle;\n",
       "    }\n",
       "\n",
       "    .dataframe tbody tr th {\n",
       "        vertical-align: top;\n",
       "    }\n",
       "\n",
       "    .dataframe thead th {\n",
       "        text-align: right;\n",
       "    }\n",
       "</style>\n",
       "<table border=\"1\" class=\"dataframe\">\n",
       "  <thead>\n",
       "    <tr style=\"text-align: right;\">\n",
       "      <th></th>\n",
       "      <th>grid_id</th>\n",
       "      <th>geometry</th>\n",
       "      <th>bcount</th>\n",
       "    </tr>\n",
       "  </thead>\n",
       "  <tbody>\n",
       "    <tr>\n",
       "      <th>0</th>\n",
       "      <td>0</td>\n",
       "      <td>POLYGON ((-184077.797 713168.196, -183966.398 ...</td>\n",
       "      <td>0.0</td>\n",
       "    </tr>\n",
       "    <tr>\n",
       "      <th>1</th>\n",
       "      <td>1</td>\n",
       "      <td>POLYGON ((-184079.195 713078.067, -183967.795 ...</td>\n",
       "      <td>0.0</td>\n",
       "    </tr>\n",
       "    <tr>\n",
       "      <th>2</th>\n",
       "      <td>2</td>\n",
       "      <td>POLYGON ((-184080.593 712987.938, -183969.193 ...</td>\n",
       "      <td>0.0</td>\n",
       "    </tr>\n",
       "    <tr>\n",
       "      <th>3</th>\n",
       "      <td>3</td>\n",
       "      <td>POLYGON ((-184081.99 712897.809, -183970.59 71...</td>\n",
       "      <td>0.0</td>\n",
       "    </tr>\n",
       "    <tr>\n",
       "      <th>4</th>\n",
       "      <td>4</td>\n",
       "      <td>POLYGON ((-184083.388 712807.68, -183971.988 7...</td>\n",
       "      <td>0.0</td>\n",
       "    </tr>\n",
       "    <tr>\n",
       "      <th>...</th>\n",
       "      <td>...</td>\n",
       "      <td>...</td>\n",
       "      <td>...</td>\n",
       "    </tr>\n",
       "    <tr>\n",
       "      <th>325349</th>\n",
       "      <td>325349</td>\n",
       "      <td>POLYGON ((-74134.769 717795.942, -74023.561 71...</td>\n",
       "      <td>0.0</td>\n",
       "    </tr>\n",
       "    <tr>\n",
       "      <th>325350</th>\n",
       "      <td>325350</td>\n",
       "      <td>POLYGON ((-74136.108 717705.962, -74024.9 7177...</td>\n",
       "      <td>1.0</td>\n",
       "    </tr>\n",
       "    <tr>\n",
       "      <th>325351</th>\n",
       "      <td>325351</td>\n",
       "      <td>POLYGON ((-74137.447 717615.981, -74026.239 71...</td>\n",
       "      <td>0.0</td>\n",
       "    </tr>\n",
       "    <tr>\n",
       "      <th>325352</th>\n",
       "      <td>325352</td>\n",
       "      <td>POLYGON ((-74138.785 717526.001, -74027.577 71...</td>\n",
       "      <td>0.0</td>\n",
       "    </tr>\n",
       "    <tr>\n",
       "      <th>325353</th>\n",
       "      <td>325353</td>\n",
       "      <td>POLYGON ((-74140.124 717436.021, -74028.916 71...</td>\n",
       "      <td>0.0</td>\n",
       "    </tr>\n",
       "  </tbody>\n",
       "</table>\n",
       "<p>325354 rows × 3 columns</p>\n",
       "</div>"
      ],
      "text/plain": [
       "        grid_id                                           geometry  bcount\n",
       "0             0  POLYGON ((-184077.797 713168.196, -183966.398 ...     0.0\n",
       "1             1  POLYGON ((-184079.195 713078.067, -183967.795 ...     0.0\n",
       "2             2  POLYGON ((-184080.593 712987.938, -183969.193 ...     0.0\n",
       "3             3  POLYGON ((-184081.99 712897.809, -183970.59 71...     0.0\n",
       "4             4  POLYGON ((-184083.388 712807.68, -183971.988 7...     0.0\n",
       "...         ...                                                ...     ...\n",
       "325349   325349  POLYGON ((-74134.769 717795.942, -74023.561 71...     0.0\n",
       "325350   325350  POLYGON ((-74136.108 717705.962, -74024.9 7177...     1.0\n",
       "325351   325351  POLYGON ((-74137.447 717615.981, -74026.239 71...     0.0\n",
       "325352   325352  POLYGON ((-74138.785 717526.001, -74027.577 71...     0.0\n",
       "325353   325353  POLYGON ((-74140.124 717436.021, -74028.916 71...     0.0\n",
       "\n",
       "[325354 rows x 3 columns]"
      ]
     },
     "execution_count": 6,
     "metadata": {},
     "output_type": "execute_result"
    }
   ],
   "source": [
    "# Count buildings per grid cell\n",
    "\n",
    "# Loading Google building footprints\n",
    "building_file = data_inputs + 'Lagos_GOBv3.gpkg'\n",
    "buildings = gpd.read_file(building_file)\n",
    "buildings = buildings.to_crs(epsg)\n",
    "buildings['centroid'] = buildings['geometry'].centroid\n",
    "\n",
    "# Joining buildings to grid\n",
    "grid_buildings = grid.sjoin(buildings.set_geometry('centroid').drop(columns='geometry'), how='inner', predicate='intersects')\n",
    "grid_buildings = grid_buildings.groupby('grid_id')\n",
    "\n",
    "# Counting buildings per grid\n",
    "building_counts = grid_buildings.size().rename('bcount')\n",
    "\n",
    "# Adding building count to grid cells\n",
    "grid = grid.merge(building_counts, on='grid_id', how='left')\n",
    "\n",
    "# Assign building count 0 to cells with no buildings (NaN)\n",
    "grid['bcount'] = grid['bcount'].fillna(0)\n",
    "grid"
   ]
  },
  {
   "cell_type": "code",
   "execution_count": 7,
   "metadata": {},
   "outputs": [
    {
     "name": "stdout",
     "output_type": "stream",
     "text": [
      "Index(['grid_id', 'geometry', 'bcount', 'centroid', 'index_right',\n",
      "       'pop_grid_pop', 'pop_grid_id'],\n",
      "      dtype='object')\n"
     ]
    },
    {
     "data": {
      "text/html": [
       "<div>\n",
       "<style scoped>\n",
       "    .dataframe tbody tr th:only-of-type {\n",
       "        vertical-align: middle;\n",
       "    }\n",
       "\n",
       "    .dataframe tbody tr th {\n",
       "        vertical-align: top;\n",
       "    }\n",
       "\n",
       "    .dataframe thead th {\n",
       "        text-align: right;\n",
       "    }\n",
       "</style>\n",
       "<table border=\"1\" class=\"dataframe\">\n",
       "  <thead>\n",
       "    <tr style=\"text-align: right;\">\n",
       "      <th></th>\n",
       "      <th>grid_id</th>\n",
       "      <th>bcount</th>\n",
       "      <th>pop_grid_id</th>\n",
       "      <th>geometry</th>\n",
       "    </tr>\n",
       "  </thead>\n",
       "  <tbody>\n",
       "    <tr>\n",
       "      <th>0</th>\n",
       "      <td>0</td>\n",
       "      <td>0.0</td>\n",
       "      <td>8520</td>\n",
       "      <td>POLYGON ((-184077.797 713168.196, -183966.398 ...</td>\n",
       "    </tr>\n",
       "    <tr>\n",
       "      <th>1</th>\n",
       "      <td>1</td>\n",
       "      <td>0.0</td>\n",
       "      <td>8520</td>\n",
       "      <td>POLYGON ((-184079.195 713078.067, -183967.795 ...</td>\n",
       "    </tr>\n",
       "    <tr>\n",
       "      <th>2</th>\n",
       "      <td>2</td>\n",
       "      <td>0.0</td>\n",
       "      <td>8520</td>\n",
       "      <td>POLYGON ((-184080.593 712987.938, -183969.193 ...</td>\n",
       "    </tr>\n",
       "    <tr>\n",
       "      <th>3</th>\n",
       "      <td>3</td>\n",
       "      <td>0.0</td>\n",
       "      <td>8640</td>\n",
       "      <td>POLYGON ((-184081.99 712897.809, -183970.59 71...</td>\n",
       "    </tr>\n",
       "    <tr>\n",
       "      <th>4</th>\n",
       "      <td>4</td>\n",
       "      <td>0.0</td>\n",
       "      <td>8640</td>\n",
       "      <td>POLYGON ((-184083.388 712807.68, -183971.988 7...</td>\n",
       "    </tr>\n",
       "  </tbody>\n",
       "</table>\n",
       "</div>"
      ],
      "text/plain": [
       "   grid_id  bcount  pop_grid_id  \\\n",
       "0        0     0.0         8520   \n",
       "1        1     0.0         8520   \n",
       "2        2     0.0         8520   \n",
       "3        3     0.0         8640   \n",
       "4        4     0.0         8640   \n",
       "\n",
       "                                            geometry  \n",
       "0  POLYGON ((-184077.797 713168.196, -183966.398 ...  \n",
       "1  POLYGON ((-184079.195 713078.067, -183967.795 ...  \n",
       "2  POLYGON ((-184080.593 712987.938, -183969.193 ...  \n",
       "3  POLYGON ((-184081.99 712897.809, -183970.59 71...  \n",
       "4  POLYGON ((-184083.388 712807.68, -183971.988 7...  "
      ]
     },
     "execution_count": 7,
     "metadata": {},
     "output_type": "execute_result"
    }
   ],
   "source": [
    "# Adding population data at 1km grid to finer grid\n",
    "from pathlib import Path\n",
    "\n",
    "data_path = Path(data_inputs)\n",
    "\n",
    "# Loading coarse pop data\n",
    "pop_file = data_path / 'Lagos_nga_f_15_49_2015_1km.tif'\n",
    "pop_raster, transform, crs = read_tif(pop_file)\n",
    "\n",
    "# Converting the raster grid to vector data\n",
    "pop_grid = raster2vector(pop_raster, transform, crs)\n",
    "pop_grid = pop_grid.to_crs(epsg)\n",
    "pop_grid['pop_grid_id'] = range(len(pop_grid))\n",
    "# pop_grid.to_parquet(data_path / 'sanity_check_pop.parquet')\n",
    "\n",
    "# Assign coarse population data to finer grid based on the centroid locations of the finer grid cells\n",
    "grid['centroid'] = grid['geometry'].centroid\n",
    "grid = gpd.sjoin(grid.set_geometry('centroid'), pop_grid, how='left', predicate='within')\n",
    "print(grid.columns)\n",
    "grid = grid[['grid_id', 'bcount', 'pop_grid_id', 'geometry']]\n",
    "grid.head()"
   ]
  },
  {
   "cell_type": "code",
   "execution_count": 8,
   "metadata": {},
   "outputs": [
    {
     "name": "stdout",
     "output_type": "stream",
     "text": [
      "3871094.0\n"
     ]
    }
   ],
   "source": [
    "print(grid['bcount'].sum())"
   ]
  },
  {
   "cell_type": "code",
   "execution_count": 9,
   "metadata": {},
   "outputs": [
    {
     "data": {
      "text/html": [
       "<div>\n",
       "<style scoped>\n",
       "    .dataframe tbody tr th:only-of-type {\n",
       "        vertical-align: middle;\n",
       "    }\n",
       "\n",
       "    .dataframe tbody tr th {\n",
       "        vertical-align: top;\n",
       "    }\n",
       "\n",
       "    .dataframe thead th {\n",
       "        text-align: right;\n",
       "    }\n",
       "</style>\n",
       "<table border=\"1\" class=\"dataframe\">\n",
       "  <thead>\n",
       "    <tr style=\"text-align: right;\">\n",
       "      <th></th>\n",
       "      <th>grid_id</th>\n",
       "      <th>bcount</th>\n",
       "      <th>pop_grid_id</th>\n",
       "      <th>geometry_x</th>\n",
       "      <th>pop_grid_bcount</th>\n",
       "      <th>pop_weight</th>\n",
       "      <th>pop_grid_pop</th>\n",
       "      <th>geometry_y</th>\n",
       "      <th>pop</th>\n",
       "    </tr>\n",
       "  </thead>\n",
       "  <tbody>\n",
       "    <tr>\n",
       "      <th>0</th>\n",
       "      <td>0</td>\n",
       "      <td>0.0</td>\n",
       "      <td>8520</td>\n",
       "      <td>POLYGON ((-184077.797 713168.196, -183966.398 ...</td>\n",
       "      <td>0.0</td>\n",
       "      <td>NaN</td>\n",
       "      <td>-3.402823e+38</td>\n",
       "      <td>POLYGON ((-184838.209 713821.761, -183911.413 ...</td>\n",
       "      <td>NaN</td>\n",
       "    </tr>\n",
       "    <tr>\n",
       "      <th>1</th>\n",
       "      <td>1</td>\n",
       "      <td>0.0</td>\n",
       "      <td>8520</td>\n",
       "      <td>POLYGON ((-184079.195 713078.067, -183967.795 ...</td>\n",
       "      <td>0.0</td>\n",
       "      <td>NaN</td>\n",
       "      <td>-3.402823e+38</td>\n",
       "      <td>POLYGON ((-184838.209 713821.761, -183911.413 ...</td>\n",
       "      <td>NaN</td>\n",
       "    </tr>\n",
       "    <tr>\n",
       "      <th>2</th>\n",
       "      <td>2</td>\n",
       "      <td>0.0</td>\n",
       "      <td>8520</td>\n",
       "      <td>POLYGON ((-184080.593 712987.938, -183969.193 ...</td>\n",
       "      <td>0.0</td>\n",
       "      <td>NaN</td>\n",
       "      <td>-3.402823e+38</td>\n",
       "      <td>POLYGON ((-184838.209 713821.761, -183911.413 ...</td>\n",
       "      <td>NaN</td>\n",
       "    </tr>\n",
       "    <tr>\n",
       "      <th>3</th>\n",
       "      <td>3</td>\n",
       "      <td>0.0</td>\n",
       "      <td>8640</td>\n",
       "      <td>POLYGON ((-184081.99 712897.809, -183970.59 71...</td>\n",
       "      <td>0.0</td>\n",
       "      <td>NaN</td>\n",
       "      <td>-3.402823e+38</td>\n",
       "      <td>POLYGON ((-184849.423 712895.275, -183922.612 ...</td>\n",
       "      <td>NaN</td>\n",
       "    </tr>\n",
       "    <tr>\n",
       "      <th>4</th>\n",
       "      <td>4</td>\n",
       "      <td>0.0</td>\n",
       "      <td>8640</td>\n",
       "      <td>POLYGON ((-184083.388 712807.68, -183971.988 7...</td>\n",
       "      <td>0.0</td>\n",
       "      <td>NaN</td>\n",
       "      <td>-3.402823e+38</td>\n",
       "      <td>POLYGON ((-184849.423 712895.275, -183922.612 ...</td>\n",
       "      <td>NaN</td>\n",
       "    </tr>\n",
       "  </tbody>\n",
       "</table>\n",
       "</div>"
      ],
      "text/plain": [
       "   grid_id  bcount  pop_grid_id  \\\n",
       "0        0     0.0         8520   \n",
       "1        1     0.0         8520   \n",
       "2        2     0.0         8520   \n",
       "3        3     0.0         8640   \n",
       "4        4     0.0         8640   \n",
       "\n",
       "                                          geometry_x  pop_grid_bcount  \\\n",
       "0  POLYGON ((-184077.797 713168.196, -183966.398 ...              0.0   \n",
       "1  POLYGON ((-184079.195 713078.067, -183967.795 ...              0.0   \n",
       "2  POLYGON ((-184080.593 712987.938, -183969.193 ...              0.0   \n",
       "3  POLYGON ((-184081.99 712897.809, -183970.59 71...              0.0   \n",
       "4  POLYGON ((-184083.388 712807.68, -183971.988 7...              0.0   \n",
       "\n",
       "   pop_weight  pop_grid_pop  \\\n",
       "0         NaN -3.402823e+38   \n",
       "1         NaN -3.402823e+38   \n",
       "2         NaN -3.402823e+38   \n",
       "3         NaN -3.402823e+38   \n",
       "4         NaN -3.402823e+38   \n",
       "\n",
       "                                          geometry_y  pop  \n",
       "0  POLYGON ((-184838.209 713821.761, -183911.413 ...  NaN  \n",
       "1  POLYGON ((-184838.209 713821.761, -183911.413 ...  NaN  \n",
       "2  POLYGON ((-184838.209 713821.761, -183911.413 ...  NaN  \n",
       "3  POLYGON ((-184849.423 712895.275, -183922.612 ...  NaN  \n",
       "4  POLYGON ((-184849.423 712895.275, -183922.612 ...  NaN  "
      ]
     },
     "execution_count": 9,
     "metadata": {},
     "output_type": "execute_result"
    }
   ],
   "source": [
    "# Calculate population weight (fraction of total population count that should be assigned to cell based on its building count)\n",
    "grid_grouped_pop = grid.groupby('pop_grid_id')\n",
    "building_count_pop = grid_grouped_pop['bcount'].sum().rename('pop_grid_bcount')\n",
    "grid = grid.merge(building_count_pop, on='pop_grid_id', how='left')\n",
    "grid['pop_weight'] = grid['bcount'] / grid['pop_grid_bcount']\n",
    "\n",
    "# Compute disaggregated population count based on weight and building count at coarser cell level\n",
    "grid = grid.merge(pop_grid, on='pop_grid_id', how='left')\n",
    "grid['pop'] = grid['pop_grid_pop'] * grid['pop_weight']\n",
    "grid.head()"
   ]
  },
  {
   "cell_type": "code",
   "execution_count": 10,
   "metadata": {},
   "outputs": [
    {
     "data": {
      "text/html": [
       "<div>\n",
       "<style scoped>\n",
       "    .dataframe tbody tr th:only-of-type {\n",
       "        vertical-align: middle;\n",
       "    }\n",
       "\n",
       "    .dataframe tbody tr th {\n",
       "        vertical-align: top;\n",
       "    }\n",
       "\n",
       "    .dataframe thead th {\n",
       "        text-align: right;\n",
       "    }\n",
       "</style>\n",
       "<table border=\"1\" class=\"dataframe\">\n",
       "  <thead>\n",
       "    <tr style=\"text-align: right;\">\n",
       "      <th></th>\n",
       "      <th>grid_id</th>\n",
       "      <th>bcount</th>\n",
       "      <th>pop_grid_id</th>\n",
       "      <th>geometry_x</th>\n",
       "      <th>pop_grid_bcount</th>\n",
       "      <th>pop_weight</th>\n",
       "      <th>pop_grid_pop</th>\n",
       "      <th>pop</th>\n",
       "    </tr>\n",
       "  </thead>\n",
       "  <tbody>\n",
       "    <tr>\n",
       "      <th>0</th>\n",
       "      <td>0</td>\n",
       "      <td>0.0</td>\n",
       "      <td>8520</td>\n",
       "      <td>POLYGON ((-184077.797 713168.196, -183966.398 ...</td>\n",
       "      <td>0.0</td>\n",
       "      <td>NaN</td>\n",
       "      <td>-3.402823e+38</td>\n",
       "      <td>NaN</td>\n",
       "    </tr>\n",
       "    <tr>\n",
       "      <th>1</th>\n",
       "      <td>1</td>\n",
       "      <td>0.0</td>\n",
       "      <td>8520</td>\n",
       "      <td>POLYGON ((-184079.195 713078.067, -183967.795 ...</td>\n",
       "      <td>0.0</td>\n",
       "      <td>NaN</td>\n",
       "      <td>-3.402823e+38</td>\n",
       "      <td>NaN</td>\n",
       "    </tr>\n",
       "    <tr>\n",
       "      <th>2</th>\n",
       "      <td>2</td>\n",
       "      <td>0.0</td>\n",
       "      <td>8520</td>\n",
       "      <td>POLYGON ((-184080.593 712987.938, -183969.193 ...</td>\n",
       "      <td>0.0</td>\n",
       "      <td>NaN</td>\n",
       "      <td>-3.402823e+38</td>\n",
       "      <td>NaN</td>\n",
       "    </tr>\n",
       "    <tr>\n",
       "      <th>3</th>\n",
       "      <td>3</td>\n",
       "      <td>0.0</td>\n",
       "      <td>8640</td>\n",
       "      <td>POLYGON ((-184081.99 712897.809, -183970.59 71...</td>\n",
       "      <td>0.0</td>\n",
       "      <td>NaN</td>\n",
       "      <td>-3.402823e+38</td>\n",
       "      <td>NaN</td>\n",
       "    </tr>\n",
       "    <tr>\n",
       "      <th>4</th>\n",
       "      <td>4</td>\n",
       "      <td>0.0</td>\n",
       "      <td>8640</td>\n",
       "      <td>POLYGON ((-184083.388 712807.68, -183971.988 7...</td>\n",
       "      <td>0.0</td>\n",
       "      <td>NaN</td>\n",
       "      <td>-3.402823e+38</td>\n",
       "      <td>NaN</td>\n",
       "    </tr>\n",
       "  </tbody>\n",
       "</table>\n",
       "</div>"
      ],
      "text/plain": [
       "   grid_id  bcount  pop_grid_id  \\\n",
       "0        0     0.0         8520   \n",
       "1        1     0.0         8520   \n",
       "2        2     0.0         8520   \n",
       "3        3     0.0         8640   \n",
       "4        4     0.0         8640   \n",
       "\n",
       "                                          geometry_x  pop_grid_bcount  \\\n",
       "0  POLYGON ((-184077.797 713168.196, -183966.398 ...              0.0   \n",
       "1  POLYGON ((-184079.195 713078.067, -183967.795 ...              0.0   \n",
       "2  POLYGON ((-184080.593 712987.938, -183969.193 ...              0.0   \n",
       "3  POLYGON ((-184081.99 712897.809, -183970.59 71...              0.0   \n",
       "4  POLYGON ((-184083.388 712807.68, -183971.988 7...              0.0   \n",
       "\n",
       "   pop_weight  pop_grid_pop  pop  \n",
       "0         NaN -3.402823e+38  NaN  \n",
       "1         NaN -3.402823e+38  NaN  \n",
       "2         NaN -3.402823e+38  NaN  \n",
       "3         NaN -3.402823e+38  NaN  \n",
       "4         NaN -3.402823e+38  NaN  "
      ]
     },
     "execution_count": 10,
     "metadata": {},
     "output_type": "execute_result"
    }
   ],
   "source": [
    "# Saving to file\n",
    "grid = grid.drop(columns=[\"geometry_y\"])\n",
    "grid.head()\n"
   ]
  },
  {
   "cell_type": "code",
   "execution_count": 11,
   "metadata": {},
   "outputs": [],
   "source": [
    "grid = grid.set_geometry(\"geometry_x\")\n",
    "grid = grid.to_crs(4326)\n",
    "grid.to_file(data_temp + 'pop_grid.gpkg', driver='GPKG')"
   ]
  },
  {
   "cell_type": "markdown",
   "metadata": {
    "magic_args": "[markdown]"
   },
   "source": [
    "## Spatial Analysis Pipeline \n",
    "### Using OpenRouteService (ORS) Matrix API to calculate the travel time and distance from each population grid centroid to the healthcare facility \n",
    "\n",
    "note: this will generate a file 'OD_matrix_healthcare_pop_grid'"
   ]
  },
  {
   "cell_type": "code",
   "execution_count": null,
   "metadata": {},
   "outputs": [],
   "source": [
    "origin_gdf = centroids_df\n",
    "origin_name_column = 'grid_code'\n",
    "destination_gdf = healthcare_facilities.dropna(subset=['geometry'])\n",
    "destination_name_column = 'facility_name'"
   ]
  },
  {
   "cell_type": "code",
   "execution_count": null,
   "metadata": {},
   "outputs": [],
   "source": [
    "origins = list(zip(origin_gdf.geometry.x, origin_gdf.geometry.y))"
   ]
  },
  {
   "cell_type": "code",
   "execution_count": null,
   "metadata": {},
   "outputs": [],
   "source": [
    "destinations = list(zip(destination_gdf.geometry.x, destination_gdf.geometry.y))"
   ]
  },
  {
   "cell_type": "code",
   "execution_count": null,
   "metadata": {},
   "outputs": [],
   "source": [
    "locations = origins + destinations"
   ]
  },
  {
   "cell_type": "code",
   "execution_count": null,
   "metadata": {},
   "outputs": [],
   "source": [
    "origins_index = list(range(0, len(origins)))\n",
    "destinations_index = list(range(len(origins), len(locations)))"
   ]
  },
  {
   "cell_type": "code",
   "execution_count": null,
   "metadata": {},
   "outputs": [],
   "source": [
    "body = {'locations': locations,\n",
    "       'destinations': destinations_index,\n",
    "       'sources': origins_index,\n",
    "       'metrics': ['distance', 'duration']}"
   ]
  },
  {
   "cell_type": "code",
   "execution_count": null,
   "metadata": {},
   "outputs": [],
   "source": [
    "headers = {\n",
    "    'Accept': 'application/json, application/geo+json, application/gpx+xml, img/png; charset=utf-8',\n",
    "    'Authorization': api_key,\n",
    "    'Content-Type': 'application/json; charset=utf-8'\n",
    "}"
   ]
  },
  {
   "cell_type": "code",
   "execution_count": null,
   "metadata": {},
   "outputs": [],
   "source": [
    "response = requests.post('https://api.openrouteservice.org/v2/matrix/driving-car', json=body, headers=headers)"
   ]
  },
  {
   "cell_type": "code",
   "execution_count": null,
   "metadata": {},
   "outputs": [],
   "source": [
    "distances = response.json().get('distances', [])\n",
    "durations = response.json().get('durations', [])"
   ]
  },
  {
   "cell_type": "code",
   "execution_count": null,
   "metadata": {},
   "outputs": [],
   "source": [
    "distances_duration_matrix = []"
   ]
  },
  {
   "cell_type": "code",
   "execution_count": null,
   "metadata": {},
   "outputs": [],
   "source": [
    "# Iterate over each origin (grid)\n",
    "for origin_index, origin in origin_gdf.iterrows():\n",
    "    origin_name = origin[origin_name_column]\n",
    "    origin_x = origin.geometry.x\n",
    "    origin_y = origin.geometry.y\n",
    "    origin_distances = distances[origin_index]\n",
    "    origin_durations = durations[origin_index]\n",
    "\n",
    "    # find the minimum duration and the index of the minimum duration\n",
    "    min_duration = min(origin_durations)\n",
    "    min_index = origin_durations.index(min_duration)\n",
    "    destination_index = destinations_index[min_index]\n",
    "    dest_x, dest_y = locations[destination_index]\n",
    "    filtered = healthcare_facilities[(destination_gdf.geometry.x == dest_x) & (destination_gdf.geometry.y == dest_y) ]\n",
    "    destination_row = filtered.iloc[0]\n",
    "    dest_name = destination_row[destination_name_column]\n",
    "\n",
    "        # Append both the distance and duration for this origin-destination pair\n",
    "    distances_duration_matrix.append([\n",
    "            origin_name, origin_y, origin_x,\n",
    "            dest_name, dest_y, dest_x,\n",
    "            min_duration\n",
    "        ])"
   ]
  },
  {
   "cell_type": "code",
   "execution_count": null,
   "metadata": {},
   "outputs": [],
   "source": [
    "# Convert the results into a DataFrame\n",
    "matrix_df = pd.DataFrame(distances_duration_matrix, columns=[\n",
    "    'grid_code','origin_lat', 'origin_lon',\n",
    "    'destination_name', 'dest_lat', 'dest_lon','min_duration'\n",
    "])"
   ]
  },
  {
   "cell_type": "code",
   "execution_count": null,
   "metadata": {},
   "outputs": [],
   "source": [
    "# Save to CSV\n",
    "merged_df = pd.merge(matrix_df, grid_df[['grid_code', 'population']], on='grid_code', how='left')\n",
    "merged_df.to_csv(data_temp + 'distance_duration_matrix_temp.csv', index=False)"
   ]
  },
  {
   "cell_type": "code",
   "execution_count": null,
   "metadata": {},
   "outputs": [],
   "source": [
    "merged_df"
   ]
  },
  {
   "cell_type": "code",
   "execution_count": null,
   "metadata": {},
   "outputs": [],
   "source": [
    "geometry = [Point(xy) for xy in zip(merged_df['dest_lon'], merged_df['dest_lat'])]\n",
    "gdf = gpd.GeoDataFrame(merged_df, geometry=geometry, crs=\"EPSG:4326\")"
   ]
  },
  {
   "cell_type": "code",
   "execution_count": null,
   "metadata": {},
   "outputs": [],
   "source": [
    "gpkg_path = data_temp + 'distance_duration_matrix_temp.gpkg'\n",
    "gdf.to_file(gpkg_path, layer=\"duration_matrix\", driver=\"GPKG\")"
   ]
  },
  {
   "cell_type": "markdown",
   "metadata": {
    "magic_args": "[markdown]"
   },
   "source": [
    "\n",
    "\n",
    "\n",
    "\n",
    "\n",
    "\n",
    "\n",
    "\n",
    "\n",
    "\n",
    "\n"
   ]
  },
  {
   "cell_type": "markdown",
   "metadata": {
    "magic_args": "[markdown]"
   },
   "source": [
    "## Processing OD Matrix"
   ]
  },
  {
   "cell_type": "code",
   "execution_count": null,
   "metadata": {},
   "outputs": [],
   "source": [
    "matrix_df = pd.read_csv(data_temp +'OD-matrix-100m.csv')"
   ]
  },
  {
   "cell_type": "code",
   "execution_count": null,
   "metadata": {},
   "outputs": [],
   "source": [
    "matrix_df"
   ]
  },
  {
   "cell_type": "markdown",
   "metadata": {
    "magic_args": "[markdown]"
   },
   "source": [
    "We will select one facility for each gird cell"
   ]
  },
  {
   "cell_type": "code",
   "execution_count": null,
   "metadata": {},
   "outputs": [],
   "source": [
    "centroids_df = gpd.read_file(data_temp + 'pop-grid.gpkg')"
   ]
  },
  {
   "cell_type": "code",
   "execution_count": null,
   "metadata": {},
   "outputs": [],
   "source": [
    "centroids_df"
   ]
  },
  {
   "cell_type": "code",
   "execution_count": null,
   "metadata": {},
   "outputs": [],
   "source": [
    "pop_centroids_hcf = pd.merge(matrix_df, centroids_df[['rowid', 'longitude', 'latitude', 'lon_min', 'lat_min', 'lon_max', 'lat_max','bcount','pop_grid_bcount', 'pop_grid_pop', 'pop', 'geometry']], \n",
    "                     left_on='destination_id', right_on='rowid', how='left')"
   ]
  },
  {
   "cell_type": "code",
   "execution_count": null,
   "metadata": {},
   "outputs": [],
   "source": [
    "pop_centroids_hcf"
   ]
  },
  {
   "cell_type": "code",
   "execution_count": null,
   "metadata": {},
   "outputs": [],
   "source": [
    "pop_centroids_hcf = pop_centroids_hcf.rename(columns={\n",
    "    \"longitude\": \"origin_lon\",\n",
    "    \"latitude\": \"origin_lat\",\n",
    "    \"lon_min\": \"origin_lon_min\",\n",
    "    \"lat_min\": \"origin_lat_min\",\n",
    "    \"lon_max\": \"origin_lon_max\",\n",
    "    \"lat_max\": \"origin_lat_max\",\n",
    "    \"rowid\": \"grid_id\",\n",
    "    \"origin_id\": \"hcf_uid\",\n",
    "    \"pop\": \"population\"\n",
    "})\n",
    "columns_to_keep = [\"grid_id\", \"origin_lon\", \"origin_lat\", \"origin_lon_min\",\"origin_lat_min\",\"origin_lon_max\",\"origin_lat_max\",\"population\", \"bcount\",\"pop_grid_bcount\", \"pop_grid_pop\",\"geometry\", \"hcf_uid\", \"duration_seconds\", \"distance_km\"]\n",
    "pop_centroids_hcf = pop_centroids_hcf[columns_to_keep]"
   ]
  },
  {
   "cell_type": "code",
   "execution_count": null,
   "metadata": {},
   "outputs": [],
   "source": [
    "pop_centroids_hcf"
   ]
  },
  {
   "cell_type": "code",
   "execution_count": null,
   "metadata": {},
   "outputs": [],
   "source": [
    "distances_duration_matrix = pd.merge(pop_centroids_hcf, healthcare_facilities_validated[['hcf_id','facility_name', 'longitude', 'latitude', 'Local_Validation']], \n",
    "                     left_on='hcf_uid', right_on='hcf_id', how='left')"
   ]
  },
  {
   "cell_type": "code",
   "execution_count": null,
   "metadata": {},
   "outputs": [],
   "source": [
    "distances_duration_matrix = distances_duration_matrix.rename(columns={\n",
    "    \"longitude\": \"dest_lon\",\n",
    "    \"latitude\": \"dest_lat\"\n",
    "})\n",
    "distances_duration_matrix = distances_duration_matrix.drop(columns=['hcf_uid'])"
   ]
  },
  {
   "cell_type": "code",
   "execution_count": null,
   "metadata": {},
   "outputs": [],
   "source": [
    "distances_duration_matrix"
   ]
  },
  {
   "cell_type": "code",
   "execution_count": null,
   "metadata": {},
   "outputs": [],
   "source": [
    "category_counts = healthcare_facilities_validated['Local_Validation'].value_counts()\n",
    "print(category_counts)"
   ]
  },
  {
   "cell_type": "code",
   "execution_count": null,
   "metadata": {},
   "outputs": [],
   "source": [
    "distances_duration_matrix['Local_Validation'] = distances_duration_matrix['Local_Validation'].replace({\n",
    "    'Public/Private Basic EmOC': 'Private Basic EmOC',\n",
    "    'Public/Private comprehensive EmOC (missionary Hospital)': 'Private Comprehensive EmOC'\n",
    "})"
   ]
  },
  {
   "cell_type": "code",
   "execution_count": null,
   "metadata": {},
   "outputs": [],
   "source": [
    "selected_categories = ['Public Comprehensive EmOC', 'Private Comprehensive EmOC', \n",
    "                       'Private Basic EmOC', 'Public Basic EmOC']"
   ]
  },
  {
   "cell_type": "code",
   "execution_count": null,
   "metadata": {},
   "outputs": [],
   "source": [
    "distances_duration_matrix = distances_duration_matrix[\n",
    "    distances_duration_matrix['Local_Validation'].isin(selected_categories)\n",
    "]"
   ]
  },
  {
   "cell_type": "code",
   "execution_count": null,
   "metadata": {},
   "outputs": [],
   "source": [
    "distances_duration_matrix"
   ]
  },
  {
   "cell_type": "code",
   "execution_count": null,
   "metadata": {},
   "outputs": [],
   "source": [
    "# creat subsets based on categories of 'Validation of HCFs Categorization'\n",
    "categories = {\n",
    "    \"public_comprehensive_EmOC\": [\"Public Comprehensive EmOC\"],\n",
    "    \"private_comprehensive_EmOC\": [\"Private Comprehensive EmOC\"],\n",
    "    \"private_basic_EmOC\": [\"Private Basic EmOC\"],\n",
    "    \"public_basic_EmOC\": [\"Public Basic EmOC\"]\n",
    "}"
   ]
  },
  {
   "cell_type": "code",
   "execution_count": null,
   "metadata": {},
   "outputs": [],
   "source": [
    "subsets = {\n",
    "    key: distances_duration_matrix[\n",
    "        distances_duration_matrix['Local_Validation'].str.contains('|'.join(values), na=False)\n",
    "    ]\n",
    "    for key, values in categories.items()\n",
    "}"
   ]
  },
  {
   "cell_type": "code",
   "execution_count": null,
   "metadata": {},
   "outputs": [],
   "source": [
    "public_CEmOC = subsets[\"public_comprehensive_EmOC\"]\n",
    "private_CEmOC = subsets[\"private_comprehensive_EmOC\"]\n",
    "public_BEmOC = subsets[\"public_basic_EmOC\"]\n",
    "private_BEmOC = subsets[\"private_basic_EmOC\"]"
   ]
  },
  {
   "cell_type": "code",
   "execution_count": null,
   "metadata": {
    "lines_to_next_cell": 1
   },
   "outputs": [],
   "source": [
    "public_CEmOC"
   ]
  },
  {
   "cell_type": "code",
   "execution_count": null,
   "metadata": {
    "lines_to_next_cell": 1
   },
   "outputs": [],
   "source": [
    "# Step 2: Define a function to get 3 smallest duration_seconds per grid_id for each category\n",
    "def get_closest_3(df, n=3):\n",
    "    return df.groupby('grid_id').apply(lambda x: x.nsmallest(n, 'duration_seconds')).reset_index(drop=True)"
   ]
  },
  {
   "cell_type": "code",
   "execution_count": null,
   "metadata": {},
   "outputs": [],
   "source": [
    "# If the subsets are already created for each category, we apply the function to each subset:\n",
    "public_CEmOC_closest_3 = get_closest_3(public_CEmOC)\n",
    "private_CEmOC_closest_3 = get_closest_3(private_CEmOC)\n",
    "public_BEmOC_closest_3 = get_closest_3(public_BEmOC)\n",
    "private_BEmOC_closest_3 = get_closest_3(private_BEmOC)"
   ]
  },
  {
   "cell_type": "code",
   "execution_count": null,
   "metadata": {},
   "outputs": [],
   "source": [
    "# Step 4: Concatenate the filtered results into a single DataFrame\n",
    "distances_duration_matrix = pd.concat([\n",
    "    public_CEmOC_closest_3, private_CEmOC_closest_3,\n",
    "    public_BEmOC_closest_3, private_BEmOC_closest_3\n",
    "])"
   ]
  },
  {
   "cell_type": "markdown",
   "metadata": {},
   "source": [
    "distances_duration_matrix = distances_duration_matrix.groupby('grid_id').apply(lambda x: x.nsmallest(3, 'duration_seconds')).reset_index(drop=True)"
   ]
  },
  {
   "cell_type": "code",
   "execution_count": null,
   "metadata": {},
   "outputs": [],
   "source": [
    "distances_duration_matrix"
   ]
  },
  {
   "cell_type": "code",
   "execution_count": null,
   "metadata": {},
   "outputs": [],
   "source": [
    "geometry = [Point(xy) for xy in zip(distances_duration_matrix['origin_lon'], distances_duration_matrix['origin_lat'])]\n",
    "gdf = gpd.GeoDataFrame(distances_duration_matrix, geometry=geometry, crs=\"EPSG:4326\")"
   ]
  },
  {
   "cell_type": "code",
   "execution_count": null,
   "metadata": {},
   "outputs": [],
   "source": [
    "gpkg_path = data_temp + 'distances_duration_3_closet_Emoc.gpkg'\n",
    "gdf.to_file(gpkg_path, layer=\"distances_duration_3_closet_Emoc\", driver=\"GPKG\")"
   ]
  },
  {
   "cell_type": "code",
   "execution_count": null,
   "metadata": {},
   "outputs": [],
   "source": [
    "# Review and remove\n",
    "origin_dest = distances_duration_matrix"
   ]
  },
  {
   "cell_type": "markdown",
   "metadata": {
    "magic_args": "[markdown]"
   },
   "source": [
    "## Enhanced Two-Step Floating Catchment Area (E2SFCA) method"
   ]
  },
  {
   "cell_type": "code",
   "execution_count": null,
   "metadata": {},
   "outputs": [],
   "source": [
    "# Function\n",
    "from math import *\n",
    "d = 10 * 60 # try max duration 5/10mins/15mins/20 car, under estimation of travel time and traffic condition realted to the selected data sourse \n",
    "W = 0.01 # try 0.1, 0.05, 0.01, 0.75\n",
    "beta = - d ** 2 / log(W)\n",
    "print(beta)"
   ]
  },
  {
   "cell_type": "code",
   "execution_count": null,
   "metadata": {},
   "outputs": [],
   "source": [
    "print(origin_dest.head())"
   ]
  },
  {
   "cell_type": "code",
   "execution_count": null,
   "metadata": {},
   "outputs": [],
   "source": [
    "# Convert 'duration' to numeric, coercing errors to NaN\n",
    "origin_dest = origin_dest.copy()\n",
    "origin_dest['duration_seconds'] = pd.to_numeric(origin_dest['duration_seconds'], errors='coerce')"
   ]
  },
  {
   "cell_type": "code",
   "execution_count": null,
   "metadata": {},
   "outputs": [],
   "source": [
    "# Drop rows with NaN values in 'duration' column\n",
    "origin_dest = origin_dest.dropna(subset=['duration_seconds'])\n",
    "origin_dest['grid_id'] = pd.to_numeric(origin_dest['grid_id'], errors='coerce')"
   ]
  },
  {
   "cell_type": "code",
   "execution_count": null,
   "metadata": {},
   "outputs": [],
   "source": [
    "origin_dest_acc = origin_dest"
   ]
  },
  {
   "cell_type": "code",
   "execution_count": null,
   "metadata": {},
   "outputs": [],
   "source": [
    "# Apply Gaussian decay function to calculate the weight of each grid to healthcare \n",
    "# facilities based on the travel duration. d is the travel time and beta is the decay \n",
    "# parameter previously calculated.\n",
    "# The weight decreases as the duration increases, meaning facilities that are further away have less impact.\n",
    "origin_dest_acc['Weight'] = origin_dest_acc['duration_seconds'].apply(lambda d: round(math.exp(-d**2/beta), 8))"
   ]
  },
  {
   "cell_type": "code",
   "execution_count": null,
   "metadata": {},
   "outputs": [],
   "source": [
    "# Compute the Weighted Population (Pop_W), the population of each grid cell is multiplied \n",
    "# by the corresponding weight to calculate the weighted population.\n",
    "origin_dest_acc['Pop_W'] = origin_dest_acc['population'] * origin_dest_acc['Weight']"
   ]
  },
  {
   "cell_type": "code",
   "execution_count": null,
   "metadata": {},
   "outputs": [],
   "source": [
    "origin_dest_acc"
   ]
  },
  {
   "cell_type": "code",
   "execution_count": null,
   "metadata": {},
   "outputs": [],
   "source": [
    "# Sum the Weighted Population\n",
    "origin_dest_sum = origin_dest_acc.groupby(by='hcf_id')['Pop_W'].sum().reset_index()"
   ]
  },
  {
   "cell_type": "code",
   "execution_count": null,
   "metadata": {},
   "outputs": [],
   "source": [
    "origin_dest_sum"
   ]
  },
  {
   "cell_type": "code",
   "execution_count": null,
   "metadata": {},
   "outputs": [],
   "source": [
    "# Merge the Sum of Weighted Population Back into the Original Data\n",
    "origin_dest_acc = origin_dest_acc.merge(origin_dest_sum, on='hcf_id')"
   ]
  },
  {
   "cell_type": "code",
   "execution_count": null,
   "metadata": {},
   "outputs": [],
   "source": [
    "origin_dest_acc"
   ]
  },
  {
   "cell_type": "code",
   "execution_count": null,
   "metadata": {},
   "outputs": [],
   "source": [
    "# supply value is set to 1 for simplicity (capacity of HCF)\n",
    "# supply = 1\n",
    "# in the future, we will link supply with ownership and EmOC service level\n",
    "origin_dest_acc = origin_dest_acc.rename(columns={'Pop_W_y': 'Pop_W_S'})  # Pop_W_S: Population Weight Sum"
   ]
  },
  {
   "cell_type": "markdown",
   "metadata": {},
   "source": [
    "Compute the Supply-Demand Ratio (Rj)\n",
    "origin_dest_acc['supply_demand_ratio'] = 1 / origin_dest_acc.Pop_W_S\n",
    "origin_dest_acc['supply_demand_ratio'].replace([np.inf, np.nan], 0, inplace=True)"
   ]
  },
  {
   "cell_type": "code",
   "execution_count": null,
   "metadata": {},
   "outputs": [],
   "source": [
    "supply_map = {\n",
    "    'Public Comprehensive EmOC': 1,\n",
    "    'Private Comprehensive EmOC': 0.7,\n",
    "    'Public Basic EmOC': 0.5,\n",
    "    'Private Basic EmOC': 0.35\n",
    "}"
   ]
  },
  {
   "cell_type": "code",
   "execution_count": null,
   "metadata": {},
   "outputs": [],
   "source": [
    "origin_dest_acc['supply'] = origin_dest_acc['Local_Validation'].map(supply_map)\n",
    "origin_dest_acc['supply_demand_ratio'] = origin_dest_acc['supply'] / origin_dest_acc['Pop_W_S']\n",
    "origin_dest_acc['supply_demand_ratio'].replace([np.inf, -np.inf, np.nan], 0, inplace=True)"
   ]
  },
  {
   "cell_type": "code",
   "execution_count": null,
   "metadata": {},
   "outputs": [],
   "source": [
    "# Calculate Rj * Weight for Each Grid Cell\n",
    "origin_dest_acc['supply_W'] = origin_dest_acc['supply_demand_ratio'] * origin_dest_acc.Weight"
   ]
  },
  {
   "cell_type": "code",
   "execution_count": null,
   "metadata": {},
   "outputs": [],
   "source": [
    "# Compute Accessibility Index (Ai) for Each Grid Cell\n",
    "origin_dest_acc['Accessibility'] = origin_dest_acc.groupby('grid_id')['supply_W'].transform('sum')"
   ]
  },
  {
   "cell_type": "code",
   "execution_count": null,
   "metadata": {},
   "outputs": [],
   "source": [
    "# Normalize\n",
    "from sklearn.preprocessing import MinMaxScaler"
   ]
  },
  {
   "cell_type": "code",
   "execution_count": null,
   "metadata": {},
   "outputs": [],
   "source": [
    "scaler = MinMaxScaler()\n",
    "origin_dest_acc['Accessibility_standard'] = scaler.fit_transform(origin_dest_acc[['Accessibility']])"
   ]
  },
  {
   "cell_type": "code",
   "execution_count": null,
   "metadata": {},
   "outputs": [],
   "source": [
    "origin_dest_acc"
   ]
  },
  {
   "cell_type": "code",
   "execution_count": null,
   "metadata": {},
   "outputs": [],
   "source": [
    "max(origin_dest_acc.Accessibility_standard)"
   ]
  },
  {
   "cell_type": "code",
   "execution_count": null,
   "metadata": {},
   "outputs": [],
   "source": [
    "gdf = gpd.GeoDataFrame(origin_dest_acc, geometry='geometry', crs=\"EPSG:4326\")\n",
    "gpkg_path = data_outputs + 'acc_score_3_closet_Emoc_d10_w0.01_supply_weighted.gpkg'\n",
    "gdf.to_file(gpkg_path, layer=\"acc_score_3_closet_Emoc_d10_w0.01_supply_weighted\", driver=\"GPKG\")"
   ]
  },
  {
   "cell_type": "markdown",
   "metadata": {
    "magic_args": "[markdown]"
   },
   "source": [
    "### Distribution Diagram"
   ]
  },
  {
   "cell_type": "code",
   "execution_count": null,
   "metadata": {},
   "outputs": [],
   "source": [
    "origin_dest_acc = gpd.read_file(data_outputs + 'acc_score_3_closet_Emoc_d10_w0.01_supply_weighted.gpkg')"
   ]
  },
  {
   "cell_type": "code",
   "execution_count": null,
   "metadata": {},
   "outputs": [],
   "source": [
    "# 1. distribution plot of duration\n",
    "import seaborn as sns\n",
    "import matplotlib.pyplot as plt"
   ]
  },
  {
   "cell_type": "code",
   "execution_count": null,
   "metadata": {},
   "outputs": [],
   "source": [
    "sns.displot(origin_dest_acc['duration_seconds']/60, kde=True)"
   ]
  },
  {
   "cell_type": "code",
   "execution_count": null,
   "metadata": {},
   "outputs": [],
   "source": [
    "plt.title('Distribution of Duration')\n",
    "plt.xlabel('Travel time')\n",
    "plt.ylabel('Frequency')\n",
    "plt.show()          "
   ]
  },
  {
   "cell_type": "code",
   "execution_count": null,
   "metadata": {},
   "outputs": [],
   "source": [
    "# 3. distribution plot of population/duration\n",
    "sns.scatterplot(x='Accessibility_standard', y='population', data=origin_dest_acc)"
   ]
  },
  {
   "cell_type": "code",
   "execution_count": null,
   "metadata": {},
   "outputs": [],
   "source": [
    "plt.xlabel('Accessibility Score')\n",
    "plt.ylabel('Population')"
   ]
  },
  {
   "cell_type": "code",
   "execution_count": null,
   "metadata": {},
   "outputs": [],
   "source": [
    "plt.show()"
   ]
  },
  {
   "cell_type": "code",
   "execution_count": null,
   "metadata": {},
   "outputs": [],
   "source": [
    "plt.figure(figsize=(10, 6))\n",
    "sns.histplot(data=origin_dest_acc, x='Local_Validation')"
   ]
  },
  {
   "cell_type": "code",
   "execution_count": null,
   "metadata": {},
   "outputs": [],
   "source": [
    "plt.title('Histogram')\n",
    "plt.xlabel('Local Validation')\n",
    "plt.ylabel('Count')\n",
    "plt.xticks(rotation=45)\n",
    "plt.tight_layout()\n",
    "plt.show()"
   ]
  },
  {
   "cell_type": "code",
   "execution_count": null,
   "metadata": {},
   "outputs": [],
   "source": [
    "plt.figure(figsize=(20, 7))\n",
    "sns.histplot(\n",
    "    data=origin_dest_acc,\n",
    "    x='facility_name',\n",
    "    discrete=True,\n",
    "    color='skyblue',\n",
    "    edgecolor='black'\n",
    ")"
   ]
  },
  {
   "cell_type": "code",
   "execution_count": null,
   "metadata": {},
   "outputs": [],
   "source": [
    "plt.title('Facility Name Distribution', fontsize=16)\n",
    "plt.xlabel('Facility Name', fontsize=12)\n",
    "plt.ylabel('Count', fontsize=12)\n",
    "plt.xticks(rotation=60, ha='right', fontsize=10)\n",
    "plt.tight_layout()\n",
    "plt.show()"
   ]
  },
  {
   "cell_type": "code",
   "execution_count": null,
   "metadata": {},
   "outputs": [],
   "source": [
    "import geopandas as gpd\n",
    "import seaborn as sns\n",
    "import matplotlib.pyplot as plt\n",
    "import re\n",
    "import os\n",
    "from matplotlib import gridspec"
   ]
  },
  {
   "cell_type": "code",
   "execution_count": null,
   "metadata": {},
   "outputs": [],
   "source": [
    "data_folder = 'data_outputs/acc_score_3_closest_Emoc'"
   ]
  },
  {
   "cell_type": "code",
   "execution_count": null,
   "metadata": {},
   "outputs": [],
   "source": [
    "file_names = [f for f in os.listdir(data_folder) if f.endswith('.gpkg')] "
   ]
  },
  {
   "cell_type": "code",
   "execution_count": null,
   "metadata": {},
   "outputs": [],
   "source": [
    "fig = plt.figure(figsize=(20, 15))\n",
    "gs = gridspec.GridSpec(4, 5, figure=fig)"
   ]
  },
  {
   "cell_type": "code",
   "execution_count": null,
   "metadata": {
    "lines_to_next_cell": 2
   },
   "outputs": [],
   "source": [
    "y_labels = ['5min', '10min', '15min', '20min']\n",
    "x_labels = [0.75, 0.5, 0.1, 0.05, 0.01]"
   ]
  },
  {
   "cell_type": "code",
   "execution_count": null,
   "metadata": {},
   "outputs": [],
   "source": [
    "for i, file_name in enumerate(file_names):\n",
    "    file_path = os.path.join(data_folder, file_name)\n",
    "    gdf = gpd.read_file(file_path)\n",
    "\n",
    "    match = re.search(r'd(\\d+)', file_name)\n",
    "    if match:\n",
    "        d_value = int(match.group(1))\n",
    "        y_position = 3 - (d_value // 5 - 1)\n",
    "\n",
    "    match = re.search(r'w(\\d+\\.\\d+)', file_name)\n",
    "    if match:\n",
    "        w_value = float(match.group(1))\n",
    "        x_position = x_labels.index(w_value)\n",
    "\n",
    "    ax = fig.add_subplot(gs[y_position, x_position])\n",
    "    \n",
    "    sns.scatterplot(x='Accessibility_standard', y='population', data=gdf, ax=ax)\n",
    "    ax.set_xlabel('Accessibility Score')\n",
    "    ax.set_ylabel('Population')"
   ]
  },
  {
   "cell_type": "code",
   "execution_count": null,
   "metadata": {},
   "outputs": [],
   "source": [
    "plt.tight_layout()\n",
    "output_image_path = 'data_outputs/output_image.png'\n",
    "plt.savefig(output_image_path, bbox_inches='tight', dpi=300)"
   ]
  },
  {
   "cell_type": "code",
   "execution_count": null,
   "metadata": {},
   "outputs": [],
   "source": [
    "plt.show()"
   ]
  },
  {
   "cell_type": "markdown",
   "metadata": {
    "magic_args": "[markdown]"
   },
   "source": [
    "# 4. Grouping by grid ID to prepare the final output file\n",
    "There is a need to update this part of the code"
   ]
  },
  {
   "cell_type": "code",
   "execution_count": null,
   "metadata": {},
   "outputs": [],
   "source": [
    "# Read the GeoPackage file (if starting from this section)\n",
    "results_grid = gpd.read_file(data_outputs + 'acc_score_3_closet_Emoc_d10_w0.01_supply_weighted.gpkg')\n",
    "results_grid = results_grid[['grid_id', 'origin_lon', 'origin_lat', 'origin_lon_min', 'origin_lat_min', 'origin_lon_max', 'origin_lat_max', 'Accessibility_standard', 'geometry']]"
   ]
  },
  {
   "cell_type": "markdown",
   "metadata": {},
   "source": [
    "Group by multiple columns and calculate the mean for numeric columns\n",
    "results_grid = results_grid.groupby(['grid_id', 'origin_lon', 'origin_lat', 'origin_lon_min', 'origin_lat_min', 'origin_lon_max', 'origin_lat_max', 'Accessibility_standard']).count().reset_index()"
   ]
  },
  {
   "cell_type": "code",
   "execution_count": null,
   "metadata": {},
   "outputs": [],
   "source": [
    "results_grid = results_grid.drop_duplicates(['grid_id', 'origin_lon', 'origin_lat', 'origin_lon_min', 'origin_lat_min', 'origin_lon_max', 'origin_lat_max', 'Accessibility_standard', 'geometry'])"
   ]
  },
  {
   "cell_type": "code",
   "execution_count": null,
   "metadata": {},
   "outputs": [],
   "source": [
    "type(results_grid)"
   ]
  },
  {
   "cell_type": "code",
   "execution_count": null,
   "metadata": {},
   "outputs": [],
   "source": [
    "results_grid"
   ]
  },
  {
   "cell_type": "markdown",
   "metadata": {
    "magic_args": "[markdown]"
   },
   "source": [
    "### Setting values for Low medium and High categories\n",
    "\n",
    "We started by defining equal value division, and modified the thesholds to a value that is more legible and easier to interpret. Every model should have their own thresholds based on the data distribution of the three categories. \n",
    "\n",
    "Note: For Kano, we excluded grid cells with index values below 0.000001 that indicated very low population and a small number of buildings.  "
   ]
  },
  {
   "cell_type": "code",
   "execution_count": null,
   "metadata": {},
   "outputs": [],
   "source": [
    "results_grid['result'] = -1\n",
    "results_grid.loc[results_grid['Accessibility_standard'] > 0.000001, 'result'] = 2\n",
    "results_grid.loc[results_grid['Accessibility_standard'] > 0.005, 'result'] = 1\n",
    "results_grid.loc[results_grid['Accessibility_standard'] > 0.02, 'result'] = 0"
   ]
  },
  {
   "cell_type": "markdown",
   "metadata": {
    "magic_args": "[markdown]"
   },
   "source": [
    "### Setting values for focus areas\n",
    "\n",
    "We defined the focus areas based on values for the different thresholds. We aim at participants helping us to confirm the selection of the city-specific thresholds."
   ]
  },
  {
   "cell_type": "code",
   "execution_count": null,
   "metadata": {},
   "outputs": [],
   "source": [
    "results_grid['focused'] = 0\n",
    "# Focus areas between the Low category and the excluded cells due to low population or no buildings\n",
    "results_grid.loc[(results_grid['Accessibility_standard'] > 0.000001) & (results_grid['Accessibility_standard'] < 0.0000015), 'focused'] = 1\n",
    "# Focus areas between the Medium and High categories\n",
    "results_grid.loc[(results_grid['Accessibility_standard'] > 0.003) & (results_grid['Accessibility_standard'] < 0.006), 'focused'] = 1\n",
    "# Focus areas between the Low and Medium categories\n",
    "results_grid.loc[(results_grid['Accessibility_standard'] > 0.019) & (results_grid['Accessibility_standard'] < 0.03), 'focused'] = 1"
   ]
  },
  {
   "cell_type": "code",
   "execution_count": null,
   "metadata": {},
   "outputs": [],
   "source": [
    "results_grid"
   ]
  },
  {
   "cell_type": "code",
   "execution_count": null,
   "metadata": {
    "lines_to_next_cell": 2
   },
   "outputs": [],
   "source": [
    "results_grid = results_grid.loc[results_grid['result'] != -1]"
   ]
  },
  {
   "cell_type": "code",
   "execution_count": null,
   "metadata": {},
   "outputs": [],
   "source": [
    "results_grid = results_grid.rename(columns={\n",
    "    'origin_lon': 'longitude',\n",
    "    'origin_lat': 'latitude',\n",
    "    'origin_lon_min': 'lon_min',\n",
    "    'origin_lat_min': 'lat_min',\n",
    "    'origin_lon_max': 'lon_max',\n",
    "    'origin_lat_max': 'lat_max'\n",
    "})"
   ]
  },
  {
   "cell_type": "code",
   "execution_count": null,
   "metadata": {},
   "outputs": [],
   "source": [
    "results_grid"
   ]
  },
  {
   "cell_type": "code",
   "execution_count": null,
   "metadata": {},
   "outputs": [],
   "source": [
    "# Save the results to a new GeoPackage file\n",
    "output_gpkg_path = data_outputs + 'emergency-maternal-care-deprivation-access.gpkg'\n",
    "results_grid.to_file(output_gpkg_path, layer='emergency-maternal-care-deprivation-access', driver='GPKG')"
   ]
  },
  {
   "cell_type": "code",
   "execution_count": null,
   "metadata": {},
   "outputs": [],
   "source": [
    "# Save the results to a CSV file in the format required by the IDEAMAPS data ecosystem\n",
    "results_table = results_grid.drop(columns=['Accessibility_standard', 'grid_id', 'geometry'])\n",
    "results_table.to_csv(model_outputs + 'model-output.csv', index=False)"
   ]
  },
  {
   "cell_type": "code",
   "execution_count": null,
   "metadata": {},
   "outputs": [],
   "source": [
    "results_table"
   ]
  }
 ],
 "metadata": {
  "jupytext": {
   "formats": "ipynb,py:light"
  },
  "kernelspec": {
   "display_name": "Python",
   "language": "python",
   "name": "python3"
  },
  "language_info": {
   "codemirror_mode": {
    "name": "ipython",
    "version": 3
   },
   "file_extension": ".py",
   "mimetype": "text/x-python",
   "name": "python",
   "nbconvert_exporter": "python",
   "pygments_lexer": "ipython3",
   "version": "3.10.16"
  }
 },
 "nbformat": 4,
 "nbformat_minor": 4
}
